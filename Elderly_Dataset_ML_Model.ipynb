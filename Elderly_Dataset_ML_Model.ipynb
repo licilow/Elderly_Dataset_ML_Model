{
  "nbformat": 4,
  "nbformat_minor": 0,
  "metadata": {
    "colab": {
      "provenance": [],
      "collapsed_sections": []
    },
    "kernelspec": {
      "name": "python3",
      "display_name": "Python 3"
    },
    "language_info": {
      "name": "python"
    }
  },
  "cells": [
    {
      "cell_type": "code",
      "execution_count": null,
      "metadata": {
        "id": "TOjOcZfbPTpL"
      },
      "outputs": [],
      "source": [
        "import numpy as np #library for numerical computing\n",
        "import pandas as pd #library for data manipulation and analysis \n",
        "from sklearn.ensemble import RandomForestClassifier\n",
        "from sklearn.tree import DecisionTreeClassifier\n",
        "from sklearn.model_selection import train_test_split\n",
        "import sklearn.metrics as metrics\n",
        "from sklearn.metrics import confusion_matrix\n",
        "from sklearn.metrics import classification_report\n",
        "from imblearn.over_sampling import SMOTE\n",
        "from imblearn.under_sampling import RandomUnderSampler\n",
        "from imblearn.pipeline import Pipeline\n",
        "from sklearn.feature_selection import SelectKBest\n",
        "from sklearn.feature_selection import chi2, f_regression\n",
        "\n",
        "from sklearn.ensemble import ExtraTreesClassifier\n",
        "import matplotlib.pyplot as plt\n",
        "#importing dataset,pls download the csv and upload here\n",
        "from google.colab import files "
      ]
    },
    {
      "cell_type": "code",
      "source": [
        "upload_data = files.upload()\n",
        "\n",
        "df=pd.read_csv('data.csv')"
      ],
      "metadata": {
        "colab": {
          "resources": {
            "http://localhost:8080/nbextensions/google.colab/files.js": {
              "data": "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",
              "ok": true,
              "headers": [
                [
                  "content-type",
                  "application/javascript"
                ]
              ],
              "status": 200,
              "status_text": ""
            }
          },
          "base_uri": "https://localhost:8080/",
          "height": 72
        },
        "id": "RYH5rF5josbE",
        "outputId": "64ae05e9-9939-4bab-8c73-8962de7d2336"
      },
      "execution_count": null,
      "outputs": [
        {
          "output_type": "display_data",
          "data": {
            "text/plain": [
              "<IPython.core.display.HTML object>"
            ],
            "text/html": [
              "\n",
              "     <input type=\"file\" id=\"files-502158cb-2ba1-4cf8-a4d0-d3d6c12f6468\" name=\"files[]\" multiple disabled\n",
              "        style=\"border:none\" />\n",
              "     <output id=\"result-502158cb-2ba1-4cf8-a4d0-d3d6c12f6468\">\n",
              "      Upload widget is only available when the cell has been executed in the\n",
              "      current browser session. Please rerun this cell to enable.\n",
              "      </output>\n",
              "      <script src=\"/nbextensions/google.colab/files.js\"></script> "
            ]
          },
          "metadata": {}
        },
        {
          "output_type": "stream",
          "name": "stdout",
          "text": [
            "Saving data.csv to data.csv\n"
          ]
        }
      ]
    },
    {
      "cell_type": "code",
      "source": [
        "df['total_perceived'] = (df['Perceived Stress Scale 1 (Unable to control)'].astype('int')+df['Perceived Stress Scale 2 (Ability to handle your personal problems)'].astype('int')+df['Perceived Stress Scale 2 (Ability to handle your personal problems)'].astype('int')+df['Perceived Stress Scale 4 (not overcome them)'].astype('int'))/4\n",
        "# 0 = Never, 1 = Often\n",
        "df.loc[df['total_perceived'] <= 2, 'c_total_perceived'] = 0\n",
        "df.loc[df['total_perceived'] > 2, 'c_total_perceived'] = 1"
      ],
      "metadata": {
        "id": "cFCs3anz88TV"
      },
      "execution_count": null,
      "outputs": []
    },
    {
      "cell_type": "code",
      "source": [
        "df['total_flourishing'] = (df['Flourushing Scale 1 : I lead a purposeful and meaningful life.'].astype('int')+df['Flourushing Scale 2 : My social relationships are supportive and rewarding.'].astype('int')+df['Flourushing Scale 3 : I am engaged and interested in my daily activities.'].astype('int')+df[ 'Flourushing Scale 4 : I actively contribute to the happiness and well-being of others.'].astype('int')\n",
        "+df['Flourushing Scale 5 : I am competent and capable in the activities that are important to me'].astype('int')+df['Flourushing Scale 6 : I am a good person and live a good life'].astype('int')+df[ 'Flourushing Scale 7 : I am optimistic about my future'].astype('int')+df['Flourushing Scale 8 : People respect me'].astype('int'))/8\n",
        "# 0 = Disagree, 1 = Agree, 2= Neither agree nor disagree\n",
        "df.loc[df['total_flourishing'] < 4, 'c_total_flourishing'] = 1\n",
        "df.loc[df['total_flourishing'] > 4, 'c_total_flourishing'] = 0\n",
        "df.loc[df['total_flourishing'] == 4, 'c_total_flourishing'] = 2\n"
      ],
      "metadata": {
        "id": "cUFEOdWP4poq"
      },
      "execution_count": null,
      "outputs": []
    },
    {
      "cell_type": "code",
      "source": [
        "df['total_income']= df['Total Monthly main income (Full)'].astype('int')+df['Total Monthly side_income'].astype('int')+df['Total Monthly Household_income'].astype('int')"
      ],
      "metadata": {
        "id": "KefAn4IQD7WI"
      },
      "execution_count": null,
      "outputs": []
    },
    {
      "cell_type": "code",
      "source": [
        "df.columns"
      ],
      "metadata": {
        "id": "roUKdqLkwGH3",
        "colab": {
          "base_uri": "https://localhost:8080/"
        },
        "outputId": "d3a98dd1-7420-46f3-f31b-2b57db1659a2"
      },
      "execution_count": null,
      "outputs": [
        {
          "output_type": "execute_result",
          "data": {
            "text/plain": [
              "Index(['ID', 'NEGERI', 'GENDER', 'AGE', 'Marital Status', 'Tinggal ',\n",
              "       'Smoking', 'Rokok Sehari', 'Bekas Perokok - Tahun Berhenti',\n",
              "       'Jika Kurang 1 Tahun Berapa Batang', 'Minum Alkohol', 'MMSE', 'GDS-15',\n",
              "       'Pekerjaan Utama', 'Job Sector Previously',\n",
              "       'Total Monthly main income (Full)', 'Total Monthly side_income',\n",
              "       'Number of People Employed in Household',\n",
              "       'Total Monthly Household_income',\n",
              "       'Medical Outcome Study Social Factor (Informational)',\n",
              "       'Total Medical Outcome Study Social Factor (Tangible Support)',\n",
              "       'Total Medical Outcome Study Social Factor (Affective Support)',\n",
              "       'Total Medical Outcome Study Social Factor (Positive Social Interaction)',\n",
              "       'Neighbourhood - General Feel', 'Average Total Neighbourhood',\n",
              "       'Total Social Cohesion Scale ', 'Quality Of Life', 'Total SWLS',\n",
              "       'Perceived Stress Scale 1 (Unable to control)',\n",
              "       'Perceived Stress Scale 2 (Ability to handle your personal problems)',\n",
              "       'Perceived Stress Scale 3 (things were going your way)',\n",
              "       'Perceived Stress Scale 4 (not overcome them)',\n",
              "       'Flourushing Scale 1 : I lead a purposeful and meaningful life.',\n",
              "       'Flourushing Scale 2 : My social relationships are supportive and rewarding.',\n",
              "       'Flourushing Scale 3 : I am engaged and interested in my daily activities.',\n",
              "       'Flourushing Scale 4 : I actively contribute to the happiness and well-being of others.',\n",
              "       'Flourushing Scale 5 : I am competent and capable in the activities that are important to me',\n",
              "       'Flourushing Scale 6 : I am a good person and live a good life',\n",
              "       'Flourushing Scale 7 : I am optimistic about my future',\n",
              "       'Flourushing Scale 8 : People respect me', 'Total_EpQ(Average)',\n",
              "       'Total_Loneliness ', 'WHODAS_baseline', 'sumLubben', 'ADL',\n",
              "       'total_perceived', 'c_total_perceived', 'total_flourishing',\n",
              "       'c_total_flourishing', 'total_income'],\n",
              "      dtype='object')"
            ]
          },
          "metadata": {},
          "execution_count": 6
        }
      ]
    },
    {
      "cell_type": "code",
      "source": [
        "demographic_att = ['AGE','GENDER','NEGERI','Pekerjaan Utama','Job Sector Previously','Marital Status','Tinggal ','Number of People Employed in Household',\n",
        "                   'Total Monthly main income (Full)', 'Total Monthly side_income','Total Monthly Household_income','total_income']\n",
        "health_att = ['Smoking','Rokok Sehari', 'Bekas Perokok - Tahun Berhenti', 'Jika Kurang 1 Tahun Berapa Batang', 'Minum Alkohol','ADL','WHODAS_baseline']\n",
        "social_att = ['sumLubben','Neighbourhood - General Feel', 'Average Total Neighbourhood','Total Social Cohesion Scale ', 'Medical Outcome Study Social Factor (Informational)',\n",
        "              'Total Medical Outcome Study Social Factor (Tangible Support)','Total Medical Outcome Study Social Factor (Affective Support)',\n",
        "              'Total Medical Outcome Study Social Factor (Positive Social Interaction)']\n",
        "psychology_att = ['Quality Of Life', 'Total SWLS','Total_EpQ(Average)','Total_Loneliness ','Perceived Stress Scale 1 (Unable to control)',\n",
        "                  'Perceived Stress Scale 2 (Ability to handle your personal problems)','Perceived Stress Scale 3 (things were going your way)',\n",
        "                  'Perceived Stress Scale 4 (not overcome them)', 'total_perceived', 'c_total_perceived', 'Flourushing Scale 1 : I lead a purposeful and meaningful life.',\n",
        "                  'Flourushing Scale 2 : My social relationships are supportive and rewarding.', 'Flourushing Scale 3 : I am engaged and interested in my daily activities.',\n",
        "                  'Flourushing Scale 4 : I actively contribute to the happiness and well-being of others.','Flourushing Scale 5 : I am competent and capable in the activities that are important to me',\n",
        "                  'Flourushing Scale 6 : I am a good person and live a good life','Flourushing Scale 7 : I am optimistic about my future',\n",
        "                  'Flourushing Scale 8 : People respect me','total_flourishing','c_total_flourishing']\n",
        "all_att = demographic_att+health_att+social_att+psychology_att\n"
      ],
      "metadata": {
        "id": "vE6uR7-2m2QM"
      },
      "execution_count": null,
      "outputs": []
    },
    {
      "cell_type": "code",
      "source": [
        "thisdict = {\n",
        "    \"Severe\": 0,\n",
        "    \"Mild\": 1,\n",
        "    \"Normal\": 2\n",
        "}\n",
        "df['MMSE (INT)']= df['MMSE'].map(thisdict)"
      ],
      "metadata": {
        "id": "wvakG9MAVFpO"
      },
      "execution_count": null,
      "outputs": []
    },
    {
      "cell_type": "code",
      "source": [
        "df.columns"
      ],
      "metadata": {
        "id": "-p0y-IiS4wcG",
        "colab": {
          "base_uri": "https://localhost:8080/"
        },
        "outputId": "28140e95-ffb0-4ab1-8624-777f5b393428"
      },
      "execution_count": null,
      "outputs": [
        {
          "output_type": "execute_result",
          "data": {
            "text/plain": [
              "Index(['ID', 'NEGERI', 'GENDER', 'AGE', 'Marital Status', 'Tinggal ',\n",
              "       'Smoking', 'Rokok Sehari', 'Bekas Perokok - Tahun Berhenti',\n",
              "       'Jika Kurang 1 Tahun Berapa Batang', 'Minum Alkohol', 'MMSE', 'GDS-15',\n",
              "       'Pekerjaan Utama', 'Job Sector Previously',\n",
              "       'Total Monthly main income (Full)', 'Total Monthly side_income',\n",
              "       'Number of People Employed in Household',\n",
              "       'Total Monthly Household_income',\n",
              "       'Medical Outcome Study Social Factor (Informational)',\n",
              "       'Total Medical Outcome Study Social Factor (Tangible Support)',\n",
              "       'Total Medical Outcome Study Social Factor (Affective Support)',\n",
              "       'Total Medical Outcome Study Social Factor (Positive Social Interaction)',\n",
              "       'Neighbourhood - General Feel', 'Average Total Neighbourhood',\n",
              "       'Total Social Cohesion Scale ', 'Quality Of Life', 'Total SWLS',\n",
              "       'Perceived Stress Scale 1 (Unable to control)',\n",
              "       'Perceived Stress Scale 2 (Ability to handle your personal problems)',\n",
              "       'Perceived Stress Scale 3 (things were going your way)',\n",
              "       'Perceived Stress Scale 4 (not overcome them)',\n",
              "       'Flourushing Scale 1 : I lead a purposeful and meaningful life.',\n",
              "       'Flourushing Scale 2 : My social relationships are supportive and rewarding.',\n",
              "       'Flourushing Scale 3 : I am engaged and interested in my daily activities.',\n",
              "       'Flourushing Scale 4 : I actively contribute to the happiness and well-being of others.',\n",
              "       'Flourushing Scale 5 : I am competent and capable in the activities that are important to me',\n",
              "       'Flourushing Scale 6 : I am a good person and live a good life',\n",
              "       'Flourushing Scale 7 : I am optimistic about my future',\n",
              "       'Flourushing Scale 8 : People respect me', 'Total_EpQ(Average)',\n",
              "       'Total_Loneliness ', 'WHODAS_baseline', 'sumLubben', 'ADL',\n",
              "       'total_perceived', 'c_total_perceived', 'total_flourishing',\n",
              "       'c_total_flourishing', 'total_income', 'MMSE (INT)'],\n",
              "      dtype='object')"
            ]
          },
          "metadata": {},
          "execution_count": 9
        }
      ]
    },
    {
      "cell_type": "code",
      "source": [
        "df['Total_Loneliness '].unique()"
      ],
      "metadata": {
        "id": "HKnPyXCycKfb",
        "colab": {
          "base_uri": "https://localhost:8080/"
        },
        "outputId": "6ef814c3-2d52-41cf-9c58-b0ba52d29ca5"
      },
      "execution_count": null,
      "outputs": [
        {
          "output_type": "execute_result",
          "data": {
            "text/plain": [
              "array(['Hardly ever', 'Some of the time', 'FALSE', 'Often'], dtype=object)"
            ]
          },
          "metadata": {},
          "execution_count": 10
        }
      ]
    },
    {
      "cell_type": "code",
      "source": [
        "df=df[~df['Total_Loneliness '].str.contains('FALSE')]"
      ],
      "metadata": {
        "id": "TNqq-KU-hz2e"
      },
      "execution_count": null,
      "outputs": []
    },
    {
      "cell_type": "code",
      "source": [
        "final_demographic = pd.get_dummies(df[demographic_att])\n",
        "final_health = pd.get_dummies(df[health_att])\n",
        "final_social = pd.get_dummies(df[social_att])\n",
        "final_psychology = pd.get_dummies(df[psychology_att])\n",
        "\n",
        "final_df = pd.concat([final_demographic,final_health,final_social,final_psychology,df['MMSE (INT)'],df['GDS-15']],axis=1)\n",
        "final_df = final_df.drop(columns=['Total Monthly main income (Full)','Total Monthly side_income','Total Monthly Household_income'])\n",
        "final_df.columns"
      ],
      "metadata": {
        "colab": {
          "base_uri": "https://localhost:8080/"
        },
        "id": "vxZUm8B5z-pg",
        "outputId": "c62ddf48-750c-4102-ee90-a701d428a021"
      },
      "execution_count": null,
      "outputs": [
        {
          "output_type": "execute_result",
          "data": {
            "text/plain": [
              "Index(['AGE', 'Pekerjaan Utama', 'total_income', 'GENDER_Lelaki',\n",
              "       'GENDER_Perempuan', 'NEGERI_Johor', 'NEGERI_Kelantan', 'NEGERI_Perak',\n",
              "       'NEGERI_Selangor', 'Job Sector Previously_NGO',\n",
              "       ...\n",
              "       'Total SWLS_Agree', 'Total SWLS_Disagree', 'Total SWLS_Neutral',\n",
              "       'Total_EpQ(Average)_No', 'Total_EpQ(Average)_Yes',\n",
              "       'Total_Loneliness _Hardly ever', 'Total_Loneliness _Often',\n",
              "       'Total_Loneliness _Some of the time', 'MMSE (INT)', 'GDS-15'],\n",
              "      dtype='object', length=103)"
            ]
          },
          "metadata": {},
          "execution_count": 12
        }
      ]
    },
    {
      "cell_type": "code",
      "source": [
        "from sklearn.preprocessing import MinMaxScaler\n",
        "\n",
        "scaler = MinMaxScaler()\n",
        "finala_df_transformed = scaler.fit_transform(final_df) "
      ],
      "metadata": {
        "id": "lt0EGBhBacyA"
      },
      "execution_count": null,
      "outputs": []
    },
    {
      "cell_type": "code",
      "source": [
        "#Using ElBOW METHOD to identify best k values\n",
        "\n",
        "from sklearn.cluster import KMeans\n",
        "from yellowbrick.cluster import KElbowVisualizer\n",
        "\n",
        "Error =[]\n",
        "for i in range(2, 8):\n",
        "    kmeans = KMeans(n_clusters = i)\n",
        "    kmeans.fit(finala_df_transformed)\n",
        "    Error.append(kmeans.inertia_)\n",
        "\n",
        "fig = plt.figure()\n",
        "plt.plot(range(2, 8), Error,'bx-')\n",
        "plt.title('The Elbow Method showing the optimal k')\n",
        "plt.xlabel('k')\n",
        "plt.ylabel('Distortion')\n",
        "plt.show()"
      ],
      "metadata": {
        "colab": {
          "base_uri": "https://localhost:8080/",
          "height": 376
        },
        "id": "EH38ykWyMsNL",
        "outputId": "46aa4c16-94d1-4eda-ecd2-6f6e01828f18"
      },
      "execution_count": null,
      "outputs": [
        {
          "output_type": "display_data",
          "data": {
            "text/plain": [
              "<Figure size 576x396 with 1 Axes>"
            ],
            "image/png": "[encoded data removed]"
          },
          "metadata": {}
        }
      ]
    },
    {
      "cell_type": "code",
      "source": [
        "from sklearn.cluster import KMeans\n",
        "kmeans = KMeans(init=\"random\", n_clusters=5, n_init=10, max_iter=300, random_state=42 )\n",
        "kmeans.fit(finala_df_transformed) #Replace your training dataset instead of x_train\n",
        "# The lowest SSE value\n",
        "print(kmeans.inertia_)\n",
        "# Final locations of the centroid\n",
        "print(kmeans.cluster_centers_)\n",
        "# The number of iterations required to converge\n",
        "print(kmeans.n_iter_)\n",
        "# first five predicted labels \n",
        "print(kmeans.labels_[:5])"
      ],
      "metadata": {
        "colab": {
          "base_uri": "https://localhost:8080/"
        },
        "id": "-qybUm6267yv",
        "outputId": "65632e6f-9b6c-4ffe-e9e9-85fe00b361ec"
      },
      "execution_count": null,
      "outputs": [
        {
          "output_type": "stream",
          "name": "stdout",
          "text": [
            "12460.220009967903\n",
            "[[ 2.50176056e-01  6.06572770e-01  2.45485102e-01  4.98591549e-01\n",
            "   5.01408451e-01  7.60563380e-02  4.42253521e-01  2.81690141e-01\n",
            "   2.00000000e-01  1.80281690e-01  1.09859155e-01  2.36619718e-01\n",
            "   4.73239437e-01  2.16901408e-01  2.81690141e-03  7.74647887e-01\n",
            "   5.63380282e-03  9.23943662e-01  7.60563380e-02  3.97183099e-01\n",
            "   3.49295775e-01  1.74647887e-01  3.38028169e-02  8.45070423e-03\n",
            "   2.81690141e-03  6.93889390e-18  1.73472348e-18  1.73472348e-18\n",
            "   1.73472348e-18  3.38028169e-02  2.62910798e-02  2.46277666e-02\n",
            "   9.43661972e-03  1.26760563e-01  1.80281690e-01  6.92957746e-01\n",
            "   9.85915493e-01  1.40845070e-02  9.94366197e-01  5.63380282e-03\n",
            "   9.85915493e-02  5.71830986e-01  2.81690141e-03  2.53521127e-02\n",
            "   2.95774648e-01  5.63380282e-03  9.77464789e-01  2.25352113e-02\n",
            "   1.21126761e-01  1.12676056e-02  2.81690141e-03  8.64788732e-01\n",
            "   7.32394366e-01  2.81690141e-02  2.39436620e-01  8.45070423e-03\n",
            "   1.12676056e-02  9.69014085e-01  8.45070423e-03  2.81690141e-03\n",
            "   9.26760563e-01  5.63380282e-02  5.63380282e-03  1.12676056e-02\n",
            "   9.40845070e-01  4.78873239e-02  5.63380282e-03  5.63380282e-03\n",
            "   9.57746479e-01  4.22535211e-02  0.00000000e+00 -3.33066907e-16\n",
            "   9.40845070e-01  5.07042254e-02  8.45070423e-03 -2.22044605e-16\n",
            "   1.07042254e-01  8.33802817e-01  3.90845070e-01  3.92957746e-01\n",
            "   8.19718310e-01  5.18526544e-01  4.19718310e-01  1.09295775e-01\n",
            "   1.12676056e-01  1.14929577e-01  1.03755869e-01  9.85915493e-02\n",
            "   9.24882629e-02  9.53051643e-02  9.29577465e-02  1.06583688e-01\n",
            "   4.92957746e-01  9.63380282e-01  2.81690141e-03  3.38028169e-02\n",
            "   8.50704225e-01  1.49295775e-01  9.46478873e-01 -7.80625564e-18\n",
            "   5.35211268e-02  4.38028169e-01  5.35211268e-02]\n",
            " [ 3.19337935e-01  4.44898887e-01  1.43824489e-01  1.00000000e+00\n",
            "  -1.11022302e-15  2.35173824e-01  3.45603272e-01  1.98364008e-01\n",
            "   2.20858896e-01  9.91820041e-01 -5.27355937e-16  2.04498978e-03\n",
            "   6.13496933e-03  1.12474438e-01  1.22699387e-02  8.48670757e-01\n",
            "   2.65848671e-02  9.28425358e-01  7.15746421e-02  8.04911693e-16\n",
            "   2.04498978e-03  2.04498978e-03 -2.42861287e-17  2.04498978e-03\n",
            "   1.34441069e-17  8.23993651e-18  2.05998413e-18  2.05998413e-18\n",
            "   2.05998413e-18  9.93865031e-01  6.09406953e-02  4.70931931e-02\n",
            "   5.01022495e-03  2.29038855e-01  3.33333333e-01  4.37627812e-01\n",
            "   9.30470348e-01  6.95296524e-02  1.00000000e+00  1.64798730e-17\n",
            "   9.61145194e-02  5.56237219e-01  2.04498978e-03  3.47648262e-02\n",
            "   3.00613497e-01  1.02249489e-02  1.00000000e+00  1.38777878e-17\n",
            "   5.27355937e-16  2.04498978e-03  4.11996826e-18  9.97955010e-01\n",
            "   9.97955010e-01  2.04498978e-03  1.24900090e-16  2.68882139e-17\n",
            "   0.00000000e+00  1.00000000e+00  3.29597460e-17  1.34441069e-17\n",
            "   2.04498978e-03  9.93865031e-01  2.04498978e-03  2.04498978e-03\n",
            "  -8.88178420e-16  2.04498978e-03  9.95910020e-01  2.04498978e-03\n",
            "  -6.93889390e-16  9.97955010e-01  2.04498978e-03 -3.88578059e-16\n",
            "   4.44089210e-16  9.95910020e-01  2.04498978e-03  2.04498978e-03\n",
            "   3.34014997e-01  9.98466258e-01  2.52556237e-01  2.52556237e-01\n",
            "   7.50000000e-01  4.62639610e-01  9.97955010e-01  2.00817996e-01\n",
            "   2.00408998e-01  2.01635992e-01  1.68029993e-01  1.68029993e-01\n",
            "   1.68029993e-01  1.68711656e-01  1.67348330e-01  1.87330575e-01\n",
            "   4.98977505e-01  2.04498978e-03 -2.16840434e-17  9.97955010e-01\n",
            "   8.87525562e-01  1.12474438e-01  9.38650307e-01 -9.54097912e-18\n",
            "   6.13496933e-02  4.41717791e-01  7.56646217e-02]\n",
            " [ 2.94247788e-01  4.45231072e-01  1.43385296e-01  6.10622664e-16\n",
            "   1.00000000e+00  2.97345133e-01  2.05309735e-01  2.15929204e-01\n",
            "   2.81415929e-01  9.98230088e-01  1.76991150e-03 -3.60822483e-16\n",
            "  -1.74860126e-15  4.86725664e-01  2.30088496e-02  4.69026549e-01\n",
            "   2.12389381e-02  8.63716814e-01  1.36283186e-01  4.44089210e-16\n",
            "   7.07964602e-03 -4.16333634e-16  1.76991150e-03 -4.33680869e-18\n",
            "   1.82145965e-17  9.32413868e-18  2.33103467e-18  2.33103467e-18\n",
            "   2.33103467e-18  9.91150442e-01  1.68141593e-03  5.61314791e-03\n",
            "  -6.07153217e-18  1.76991150e-02  1.23893805e-02  9.69911504e-01\n",
            "   9.89380531e-01  1.06194690e-02  1.00000000e+00  1.86482774e-17\n",
            "   1.22123894e-01  5.22123894e-01  3.53982301e-03  4.24778761e-02\n",
            "   2.99115044e-01  1.06194690e-02  1.00000000e+00 -4.33680869e-18\n",
            "   3.53982301e-03  1.73472348e-17  4.66206934e-18  9.96460177e-01\n",
            "   9.94690265e-01  1.76991150e-03  3.53982301e-03  3.64291930e-17\n",
            "   0.00000000e+00  1.00000000e+00  3.72965547e-17  1.82145965e-17\n",
            "   5.82867088e-16  9.94690265e-01  7.63278329e-17  5.30973451e-03\n",
            "   5.30973451e-03  1.76991150e-03  9.85840708e-01  7.07964602e-03\n",
            "  -6.93889390e-16  9.98230088e-01  7.28583860e-17  1.76991150e-03\n",
            "   1.76991150e-03  9.98230088e-01  2.77555756e-17 -1.94289029e-16\n",
            "   3.33333333e-01  9.95132743e-01  2.53539823e-01  2.53097345e-01\n",
            "   7.48672566e-01  4.61810756e-01  9.92920354e-01  2.01415929e-01\n",
            "   2.02123894e-01  2.01415929e-01  1.68436578e-01  1.68141593e-01\n",
            "   1.68436578e-01  1.68436578e-01  1.67846608e-01  1.87734102e-01\n",
            "   5.00000000e-01  1.76991150e-03 -3.12250226e-17  9.98230088e-01\n",
            "   8.74336283e-01  1.25663717e-01  9.04424779e-01 -9.54097912e-18\n",
            "   9.55752212e-02  3.41592920e-01  1.43362832e-01]\n",
            " [ 2.63698630e-01  5.78386606e-01  2.07944527e-01  5.00978474e-01\n",
            "   4.99021526e-01  1.99608611e-01  3.30724070e-01  2.28962818e-01\n",
            "   2.40704501e-01  1.70254403e-01  2.66144814e-01  1.60469667e-01\n",
            "   4.03131115e-01  2.64187867e-01  2.15264188e-02  7.08414873e-01\n",
            "   5.87084149e-03  8.96281800e-01  1.03718200e-01  3.89432485e-01\n",
            "   2.85714286e-01  2.05479452e-01  4.10958904e-02  1.56555773e-02\n",
            "   5.87084149e-03  5.87084149e-03  2.16840434e-18  2.16840434e-18\n",
            "   2.16840434e-18  5.08806262e-02  3.15720809e-02  3.27928432e-02\n",
            "   8.70841487e-03  1.62426614e-01  1.78082192e-01  6.59491194e-01\n",
            "   9.49119374e-01  5.08806262e-02  9.90215264e-01  9.78473581e-03\n",
            "   6.06653620e-02  5.79256360e-01  3.91389432e-03  2.93542074e-02\n",
            "   3.11154599e-01  1.56555773e-02  9.88258317e-01  1.17416830e-02\n",
            "   3.65949119e-01  9.78473581e-03  4.33680869e-18  6.24266145e-01\n",
            "   8.94324853e-01  2.73972603e-02  7.82778865e-02  9.78473581e-03\n",
            "   4.89236791e-02  9.21722114e-01  1.36986301e-02  5.87084149e-03\n",
            "   9.98043053e-02  7.88649706e-01  1.17416830e-02  9.98043053e-02\n",
            "   1.15459883e-01  8.21917808e-01  1.95694716e-02  4.30528376e-02\n",
            "   1.40900196e-01  8.43444227e-01  1.95694716e-03  1.36986301e-02\n",
            "   3.91389432e-02  9.27592955e-01  1.95694716e-03  3.13111546e-02\n",
            "   2.06131768e-01  8.24363992e-01  3.12133072e-01  3.18003914e-01\n",
            "   8.25342466e-01  4.68914647e-01  3.67906067e-01  2.29745597e-01\n",
            "   2.50489237e-01  2.53620352e-01  2.23744292e-01  2.17221135e-01\n",
            "   2.03848663e-01  2.06784083e-01  2.10697978e-01  2.33559368e-01\n",
            "   4.96086106e-01  9.04109589e-01  3.91389432e-03  9.19765166e-02\n",
            "   9.02152642e-01  9.78473581e-02  9.66731898e-01 -8.67361738e-18\n",
            "   3.32681018e-02  4.31506849e-01  1.03718200e-01]\n",
            " [ 2.76197605e-01  5.72188955e-01  1.80392433e-01  4.88023952e-01\n",
            "   5.11976048e-01  1.79640719e-01  3.05389222e-01  2.69461078e-01\n",
            "   2.45508982e-01  1.88622754e-01  2.45508982e-01  1.10778443e-01\n",
            "   4.55089820e-01  2.81437126e-01  2.39520958e-02  6.70658683e-01\n",
            "   2.39520958e-02  8.80239521e-01  1.19760479e-01  4.22155689e-01\n",
            "   3.02395210e-01  1.37724551e-01  4.19161677e-02  1.49700599e-02\n",
            "   8.98203593e-03  2.99401198e-03  2.99401198e-03  2.99401198e-03\n",
            "   2.99401198e-03  5.98802395e-02  3.01397206e-02  2.48075278e-02\n",
            "   1.47451495e-17  1.01796407e-01  1.82634731e-01  7.15568862e-01\n",
            "   9.40119760e-01  5.98802395e-02  9.97005988e-01  2.99401198e-03\n",
            "   8.98203593e-02  5.77844311e-01  5.98802395e-03  2.99401198e-02\n",
            "   2.93413174e-01  2.99401198e-03  9.91017964e-01  8.98203593e-03\n",
            "   7.27544910e-01  2.69461078e-02  2.99401198e-03  2.42514970e-01\n",
            "   8.53293413e-01  8.68263473e-02  5.98802395e-02  1.79640719e-02\n",
            "   1.28742515e-01  8.26347305e-01  1.79640719e-02  8.98203593e-03\n",
            "   2.77555756e-16  1.13772455e-01  8.98203593e-02  7.96407186e-01\n",
            "   1.79640719e-02  1.04790419e-01  8.98203593e-02  7.87425150e-01\n",
            "   5.98802395e-03  1.13772455e-01  7.78443114e-02  8.02395210e-01\n",
            "   2.99401198e-03  5.38922156e-02  7.48502994e-02  8.68263473e-01\n",
            "   3.11377246e-01  8.29341317e-01  2.18562874e-01  2.05089820e-01\n",
            "   8.39820359e-01  4.17319208e-01  2.42514970e-01  2.85628743e-01\n",
            "   3.01197605e-01  3.03592814e-01  2.62475050e-01  2.51497006e-01\n",
            "   2.34031936e-01  2.43512974e-01  2.39520958e-01  2.75309845e-01\n",
            "   5.14970060e-01  8.14371257e-01  2.99401198e-02  1.55688623e-01\n",
            "   8.68263473e-01  1.31736527e-01  9.19161677e-01  1.49700599e-02\n",
            "   6.58682635e-02  4.22155689e-01  1.37724551e-01]]\n",
            "16\n",
            "[2 2 3 1 2]\n"
          ]
        }
      ]
    },
    {
      "cell_type": "code",
      "source": [
        "# #Optimal k value = 5\n",
        "# from kmodes.kmodes import KModes\n",
        "# kmode = KModes(n_clusters=5, init = \"random\", n_init = 2 , verbose=1)\n",
        "# clusters = kmode.fit_predict(final_df)\n",
        "# kmode.labels_"
      ],
      "metadata": {
        "id": "7TuFzYUDQfWU"
      },
      "execution_count": null,
      "outputs": []
    },
    {
      "cell_type": "code",
      "source": [
        "pd.get_dummies(final_df['Segment'])"
      ],
      "metadata": {
        "colab": {
          "base_uri": "https://localhost:8080/",
          "height": 424
        },
        "id": "lDYeGbvGf8OQ",
        "outputId": "2f5555fb-bdcb-4aad-cbe4-45b98c5a71e3"
      },
      "execution_count": null,
      "outputs": [
        {
          "output_type": "execute_result",
          "data": {
            "text/plain": [
              "      Fifth  First  Fourth  Second  Third\n",
              "0         1      0       0       0      0\n",
              "1         1      0       0       0      0\n",
              "2         0      0       0       1      0\n",
              "3         1      0       0       0      0\n",
              "4         1      0       0       0      0\n",
              "...     ...    ...     ...     ...    ...\n",
              "2265      1      0       0       0      0\n",
              "2266      1      0       0       0      0\n",
              "2267      0      0       0       1      0\n",
              "2268      0      1       0       0      0\n",
              "2269      0      0       0       1      0\n",
              "\n",
              "[2254 rows x 5 columns]"
            ],
            "text/html": [
              "\n",
              "  <div id=\"df-ac461e65-c485-4229-8f2c-993f12df992a\">\n",
              "    <div class=\"colab-df-container\">\n",
              "      <div>\n",
              "<style scoped>\n",
              "    .dataframe tbody tr th:only-of-type {\n",
              "        vertical-align: middle;\n",
              "    }\n",
              "\n",
              "    .dataframe tbody tr th {\n",
              "        vertical-align: top;\n",
              "    }\n",
              "\n",
              "    .dataframe thead th {\n",
              "        text-align: right;\n",
              "    }\n",
              "</style>\n",
              "<table border=\"1\" class=\"dataframe\">\n",
              "  <thead>\n",
              "    <tr style=\"text-align: right;\">\n",
              "      <th></th>\n",
              "      <th>Fifth</th>\n",
              "      <th>First</th>\n",
              "      <th>Fourth</th>\n",
              "      <th>Second</th>\n",
              "      <th>Third</th>\n",
              "    </tr>\n",
              "  </thead>\n",
              "  <tbody>\n",
              "    <tr>\n",
              "      <th>0</th>\n",
              "      <td>1</td>\n",
              "      <td>0</td>\n",
              "      <td>0</td>\n",
              "      <td>0</td>\n",
              "      <td>0</td>\n",
              "    </tr>\n",
              "    <tr>\n",
              "      <th>1</th>\n",
              "      <td>1</td>\n",
              "      <td>0</td>\n",
              "      <td>0</td>\n",
              "      <td>0</td>\n",
              "      <td>0</td>\n",
              "    </tr>\n",
              "    <tr>\n",
              "      <th>2</th>\n",
              "      <td>0</td>\n",
              "      <td>0</td>\n",
              "      <td>0</td>\n",
              "      <td>1</td>\n",
              "      <td>0</td>\n",
              "    </tr>\n",
              "    <tr>\n",
              "      <th>3</th>\n",
              "      <td>1</td>\n",
              "      <td>0</td>\n",
              "      <td>0</td>\n",
              "      <td>0</td>\n",
              "      <td>0</td>\n",
              "    </tr>\n",
              "    <tr>\n",
              "      <th>4</th>\n",
              "      <td>1</td>\n",
              "      <td>0</td>\n",
              "      <td>0</td>\n",
              "      <td>0</td>\n",
              "      <td>0</td>\n",
              "    </tr>\n",
              "    <tr>\n",
              "      <th>...</th>\n",
              "      <td>...</td>\n",
              "      <td>...</td>\n",
              "      <td>...</td>\n",
              "      <td>...</td>\n",
              "      <td>...</td>\n",
              "    </tr>\n",
              "    <tr>\n",
              "      <th>2265</th>\n",
              "      <td>1</td>\n",
              "      <td>0</td>\n",
              "      <td>0</td>\n",
              "      <td>0</td>\n",
              "      <td>0</td>\n",
              "    </tr>\n",
              "    <tr>\n",
              "      <th>2266</th>\n",
              "      <td>1</td>\n",
              "      <td>0</td>\n",
              "      <td>0</td>\n",
              "      <td>0</td>\n",
              "      <td>0</td>\n",
              "    </tr>\n",
              "    <tr>\n",
              "      <th>2267</th>\n",
              "      <td>0</td>\n",
              "      <td>0</td>\n",
              "      <td>0</td>\n",
              "      <td>1</td>\n",
              "      <td>0</td>\n",
              "    </tr>\n",
              "    <tr>\n",
              "      <th>2268</th>\n",
              "      <td>0</td>\n",
              "      <td>1</td>\n",
              "      <td>0</td>\n",
              "      <td>0</td>\n",
              "      <td>0</td>\n",
              "    </tr>\n",
              "    <tr>\n",
              "      <th>2269</th>\n",
              "      <td>0</td>\n",
              "      <td>0</td>\n",
              "      <td>0</td>\n",
              "      <td>1</td>\n",
              "      <td>0</td>\n",
              "    </tr>\n",
              "  </tbody>\n",
              "</table>\n",
              "<p>2254 rows × 5 columns</p>\n",
              "</div>\n",
              "      <button class=\"colab-df-convert\" onclick=\"convertToInteractive('df-ac461e65-c485-4229-8f2c-993f12df992a')\"\n",
              "              title=\"Convert this dataframe to an interactive table.\"\n",
              "              style=\"display:none;\">\n",
              "        \n",
              "  <svg xmlns=\"http://www.w3.org/2000/svg\" height=\"24px\"viewBox=\"0 0 24 24\"\n",
              "       width=\"24px\">\n",
              "    <path d=\"M0 0h24v24H0V0z\" fill=\"none\"/>\n",
              "    <path d=\"M18.56 5.44l.94 2.06.94-2.06 2.06-.94-2.06-.94-.94-2.06-.94 2.06-2.06.94zm-11 1L8.5 8.5l.94-2.06 2.06-.94-2.06-.94L8.5 2.5l-.94 2.06-2.06.94zm10 10l.94 2.06.94-2.06 2.06-.94-2.06-.94-.94-2.06-.94 2.06-2.06.94z\"/><path d=\"M17.41 7.96l-1.37-1.37c-.4-.4-.92-.59-1.43-.59-.52 0-1.04.2-1.43.59L10.3 9.45l-7.72 7.72c-.78.78-.78 2.05 0 2.83L4 21.41c.39.39.9.59 1.41.59.51 0 1.02-.2 1.41-.59l7.78-7.78 2.81-2.81c.8-.78.8-2.07 0-2.86zM5.41 20L4 18.59l7.72-7.72 1.47 1.35L5.41 20z\"/>\n",
              "  </svg>\n",
              "      </button>\n",
              "      \n",
              "  <style>\n",
              "    .colab-df-container {\n",
              "      display:flex;\n",
              "      flex-wrap:wrap;\n",
              "      gap: 12px;\n",
              "    }\n",
              "\n",
              "    .colab-df-convert {\n",
              "      background-color: #E8F0FE;\n",
              "      border: none;\n",
              "      border-radius: 50%;\n",
              "      cursor: pointer;\n",
              "      display: none;\n",
              "      fill: #1967D2;\n",
              "      height: 32px;\n",
              "      padding: 0 0 0 0;\n",
              "      width: 32px;\n",
              "    }\n",
              "\n",
              "    .colab-df-convert:hover {\n",
              "      background-color: #E2EBFA;\n",
              "      box-shadow: 0px 1px 2px rgba(60, 64, 67, 0.3), 0px 1px 3px 1px rgba(60, 64, 67, 0.15);\n",
              "      fill: #174EA6;\n",
              "    }\n",
              "\n",
              "    [theme=dark] .colab-df-convert {\n",
              "      background-color: #3B4455;\n",
              "      fill: #D2E3FC;\n",
              "    }\n",
              "\n",
              "    [theme=dark] .colab-df-convert:hover {\n",
              "      background-color: #434B5C;\n",
              "      box-shadow: 0px 1px 3px 1px rgba(0, 0, 0, 0.15);\n",
              "      filter: drop-shadow(0px 1px 2px rgba(0, 0, 0, 0.3));\n",
              "      fill: #FFFFFF;\n",
              "    }\n",
              "  </style>\n",
              "\n",
              "      <script>\n",
              "        const buttonEl =\n",
              "          document.querySelector('#df-ac461e65-c485-4229-8f2c-993f12df992a button.colab-df-convert');\n",
              "        buttonEl.style.display =\n",
              "          google.colab.kernel.accessAllowed ? 'block' : 'none';\n",
              "\n",
              "        async function convertToInteractive(key) {\n",
              "          const element = document.querySelector('#df-ac461e65-c485-4229-8f2c-993f12df992a');\n",
              "          const dataTable =\n",
              "            await google.colab.kernel.invokeFunction('convertToInteractive',\n",
              "                                                     [key], {});\n",
              "          if (!dataTable) return;\n",
              "\n",
              "          const docLinkHtml = 'Like what you see? Visit the ' +\n",
              "            '<a target=\"_blank\" href=https://colab.research.google.com/notebooks/data_table.ipynb>data table notebook</a>'\n",
              "            + ' to learn more about interactive tables.';\n",
              "          element.innerHTML = '';\n",
              "          dataTable['output_type'] = 'display_data';\n",
              "          await google.colab.output.renderOutput(dataTable, element);\n",
              "          const docLink = document.createElement('div');\n",
              "          docLink.innerHTML = docLinkHtml;\n",
              "          element.appendChild(docLink);\n",
              "        }\n",
              "      </script>\n",
              "    </div>\n",
              "  </div>\n",
              "  "
            ]
          },
          "metadata": {},
          "execution_count": 144
        }
      ]
    },
    {
      "cell_type": "code",
      "source": [
        "final_df['Cluster Labels']= kmeans.labels_\n",
        "final_df['Segment'] = final_df['Cluster Labels'].map({0:'First', 1:'Second',2:'Third',3:'Fourth',4:'Fifth'})\n",
        "segment = pd.get_dummies(final_df['Segment'])\n",
        "\n",
        "latest_df = pd.concat([final_df,segment],axis=1)"
      ],
      "metadata": {
        "id": "9U6mjeifcTS4"
      },
      "execution_count": null,
      "outputs": []
    },
    {
      "cell_type": "code",
      "source": [
        "latest_df = latest_df.drop(columns=['GENDER_Perempuan','Cluster Labels','Segment'])"
      ],
      "metadata": {
        "id": "upzkv4XwZBAY"
      },
      "execution_count": null,
      "outputs": []
    },
    {
      "cell_type": "code",
      "source": [
        "latest_df"
      ],
      "metadata": {
        "colab": {
          "base_uri": "https://localhost:8080/",
          "height": 502
        },
        "id": "GkEV2n7ectHA",
        "outputId": "9648642f-d939-49cf-9e33-8bfe3591d84f"
      },
      "execution_count": null,
      "outputs": [
        {
          "output_type": "execute_result",
          "data": {
            "text/plain": [
              "      AGE  Pekerjaan Utama  total_income  GENDER_Lelaki  NEGERI_Johor  \\\n",
              "0      63                5          1609              0             1   \n",
              "1      73                5          1609              0             1   \n",
              "2      69                5          1088              0             1   \n",
              "3      63                5          1609              1             1   \n",
              "4      75                5          1609              0             1   \n",
              "...   ...              ...           ...            ...           ...   \n",
              "2265   60                5          1609              1             0   \n",
              "2266   65                5          1609              0             0   \n",
              "2267   77                9           288              1             0   \n",
              "2268   60                9          1946              1             0   \n",
              "2269   62                3          2425              1             0   \n",
              "\n",
              "      NEGERI_Kelantan  NEGERI_Perak  NEGERI_Selangor  \\\n",
              "0                   0             0                0   \n",
              "1                   0             0                0   \n",
              "2                   0             0                0   \n",
              "3                   0             0                0   \n",
              "4                   0             0                0   \n",
              "...               ...           ...              ...   \n",
              "2265                0             0                1   \n",
              "2266                0             0                1   \n",
              "2267                0             0                1   \n",
              "2268                0             0                1   \n",
              "2269                0             0                1   \n",
              "\n",
              "      Job Sector Previously_NGO  Job Sector Previously_Private Sector  ...  \\\n",
              "0                             1                                     0  ...   \n",
              "1                             1                                     0  ...   \n",
              "2                             1                                     0  ...   \n",
              "3                             1                                     0  ...   \n",
              "4                             1                                     0  ...   \n",
              "...                         ...                                   ...  ...   \n",
              "2265                          1                                     0  ...   \n",
              "2266                          1                                     0  ...   \n",
              "2267                          0                                     1  ...   \n",
              "2268                          0                                     1  ...   \n",
              "2269                          0                                     0  ...   \n",
              "\n",
              "      Total_Loneliness _Hardly ever  Total_Loneliness _Often  \\\n",
              "0                                 1                        0   \n",
              "1                                 1                        0   \n",
              "2                                 1                        0   \n",
              "3                                 1                        0   \n",
              "4                                 1                        0   \n",
              "...                             ...                      ...   \n",
              "2265                              1                        0   \n",
              "2266                              1                        0   \n",
              "2267                              1                        0   \n",
              "2268                              1                        0   \n",
              "2269                              1                        0   \n",
              "\n",
              "      Total_Loneliness _Some of the time  MMSE (INT)  GDS-15  Fifth  First  \\\n",
              "0                                      0           0       2      0      0   \n",
              "1                                      0           0       1      0      0   \n",
              "2                                      0           1       1      0      0   \n",
              "3                                      0           2       1      0      0   \n",
              "4                                      0           0       1      0      0   \n",
              "...                                  ...         ...     ...    ...    ...   \n",
              "2265                                   0           2       1      0      0   \n",
              "2266                                   0           1       1      0      0   \n",
              "2267                                   0           0       1      0      0   \n",
              "2268                                   0           1       1      0      0   \n",
              "2269                                   0           1       1      0      0   \n",
              "\n",
              "      Fourth  Second  Third  \n",
              "0          0       0      1  \n",
              "1          0       0      1  \n",
              "2          1       0      0  \n",
              "3          0       1      0  \n",
              "4          0       0      1  \n",
              "...      ...     ...    ...  \n",
              "2265       0       1      0  \n",
              "2266       0       0      1  \n",
              "2267       1       0      0  \n",
              "2268       1       0      0  \n",
              "2269       1       0      0  \n",
              "\n",
              "[2254 rows x 107 columns]"
            ],
            "text/html": [
              "\n",
              "  <div id=\"df-87bb461b-8328-4cba-bf9c-677b7dfeec5e\">\n",
              "    <div class=\"colab-df-container\">\n",
              "      <div>\n",
              "<style scoped>\n",
              "    .dataframe tbody tr th:only-of-type {\n",
              "        vertical-align: middle;\n",
              "    }\n",
              "\n",
              "    .dataframe tbody tr th {\n",
              "        vertical-align: top;\n",
              "    }\n",
              "\n",
              "    .dataframe thead th {\n",
              "        text-align: right;\n",
              "    }\n",
              "</style>\n",
              "<table border=\"1\" class=\"dataframe\">\n",
              "  <thead>\n",
              "    <tr style=\"text-align: right;\">\n",
              "      <th></th>\n",
              "      <th>AGE</th>\n",
              "      <th>Pekerjaan Utama</th>\n",
              "      <th>total_income</th>\n",
              "      <th>GENDER_Lelaki</th>\n",
              "      <th>NEGERI_Johor</th>\n",
              "      <th>NEGERI_Kelantan</th>\n",
              "      <th>NEGERI_Perak</th>\n",
              "      <th>NEGERI_Selangor</th>\n",
              "      <th>Job Sector Previously_NGO</th>\n",
              "      <th>Job Sector Previously_Private Sector</th>\n",
              "      <th>...</th>\n",
              "      <th>Total_Loneliness _Hardly ever</th>\n",
              "      <th>Total_Loneliness _Often</th>\n",
              "      <th>Total_Loneliness _Some of the time</th>\n",
              "      <th>MMSE (INT)</th>\n",
              "      <th>GDS-15</th>\n",
              "      <th>Fifth</th>\n",
              "      <th>First</th>\n",
              "      <th>Fourth</th>\n",
              "      <th>Second</th>\n",
              "      <th>Third</th>\n",
              "    </tr>\n",
              "  </thead>\n",
              "  <tbody>\n",
              "    <tr>\n",
              "      <th>0</th>\n",
              "      <td>63</td>\n",
              "      <td>5</td>\n",
              "      <td>1609</td>\n",
              "      <td>0</td>\n",
              "      <td>1</td>\n",
              "      <td>0</td>\n",
              "      <td>0</td>\n",
              "      <td>0</td>\n",
              "      <td>1</td>\n",
              "      <td>0</td>\n",
              "      <td>...</td>\n",
              "      <td>1</td>\n",
              "      <td>0</td>\n",
              "      <td>0</td>\n",
              "      <td>0</td>\n",
              "      <td>2</td>\n",
              "      <td>0</td>\n",
              "      <td>0</td>\n",
              "      <td>0</td>\n",
              "      <td>0</td>\n",
              "      <td>1</td>\n",
              "    </tr>\n",
              "    <tr>\n",
              "      <th>1</th>\n",
              "      <td>73</td>\n",
              "      <td>5</td>\n",
              "      <td>1609</td>\n",
              "      <td>0</td>\n",
              "      <td>1</td>\n",
              "      <td>0</td>\n",
              "      <td>0</td>\n",
              "      <td>0</td>\n",
              "      <td>1</td>\n",
              "      <td>0</td>\n",
              "      <td>...</td>\n",
              "      <td>1</td>\n",
              "      <td>0</td>\n",
              "      <td>0</td>\n",
              "      <td>0</td>\n",
              "      <td>1</td>\n",
              "      <td>0</td>\n",
              "      <td>0</td>\n",
              "      <td>0</td>\n",
              "      <td>0</td>\n",
              "      <td>1</td>\n",
              "    </tr>\n",
              "    <tr>\n",
              "      <th>2</th>\n",
              "      <td>69</td>\n",
              "      <td>5</td>\n",
              "      <td>1088</td>\n",
              "      <td>0</td>\n",
              "      <td>1</td>\n",
              "      <td>0</td>\n",
              "      <td>0</td>\n",
              "      <td>0</td>\n",
              "      <td>1</td>\n",
              "      <td>0</td>\n",
              "      <td>...</td>\n",
              "      <td>1</td>\n",
              "      <td>0</td>\n",
              "      <td>0</td>\n",
              "      <td>1</td>\n",
              "      <td>1</td>\n",
              "      <td>0</td>\n",
              "      <td>0</td>\n",
              "      <td>1</td>\n",
              "      <td>0</td>\n",
              "      <td>0</td>\n",
              "    </tr>\n",
              "    <tr>\n",
              "      <th>3</th>\n",
              "      <td>63</td>\n",
              "      <td>5</td>\n",
              "      <td>1609</td>\n",
              "      <td>1</td>\n",
              "      <td>1</td>\n",
              "      <td>0</td>\n",
              "      <td>0</td>\n",
              "      <td>0</td>\n",
              "      <td>1</td>\n",
              "      <td>0</td>\n",
              "      <td>...</td>\n",
              "      <td>1</td>\n",
              "      <td>0</td>\n",
              "      <td>0</td>\n",
              "      <td>2</td>\n",
              "      <td>1</td>\n",
              "      <td>0</td>\n",
              "      <td>0</td>\n",
              "      <td>0</td>\n",
              "      <td>1</td>\n",
              "      <td>0</td>\n",
              "    </tr>\n",
              "    <tr>\n",
              "      <th>4</th>\n",
              "      <td>75</td>\n",
              "      <td>5</td>\n",
              "      <td>1609</td>\n",
              "      <td>0</td>\n",
              "      <td>1</td>\n",
              "      <td>0</td>\n",
              "      <td>0</td>\n",
              "      <td>0</td>\n",
              "      <td>1</td>\n",
              "      <td>0</td>\n",
              "      <td>...</td>\n",
              "      <td>1</td>\n",
              "      <td>0</td>\n",
              "      <td>0</td>\n",
              "      <td>0</td>\n",
              "      <td>1</td>\n",
              "      <td>0</td>\n",
              "      <td>0</td>\n",
              "      <td>0</td>\n",
              "      <td>0</td>\n",
              "      <td>1</td>\n",
              "    </tr>\n",
              "    <tr>\n",
              "      <th>...</th>\n",
              "      <td>...</td>\n",
              "      <td>...</td>\n",
              "      <td>...</td>\n",
              "      <td>...</td>\n",
              "      <td>...</td>\n",
              "      <td>...</td>\n",
              "      <td>...</td>\n",
              "      <td>...</td>\n",
              "      <td>...</td>\n",
              "      <td>...</td>\n",
              "      <td>...</td>\n",
              "      <td>...</td>\n",
              "      <td>...</td>\n",
              "      <td>...</td>\n",
              "      <td>...</td>\n",
              "      <td>...</td>\n",
              "      <td>...</td>\n",
              "      <td>...</td>\n",
              "      <td>...</td>\n",
              "      <td>...</td>\n",
              "      <td>...</td>\n",
              "    </tr>\n",
              "    <tr>\n",
              "      <th>2265</th>\n",
              "      <td>60</td>\n",
              "      <td>5</td>\n",
              "      <td>1609</td>\n",
              "      <td>1</td>\n",
              "      <td>0</td>\n",
              "      <td>0</td>\n",
              "      <td>0</td>\n",
              "      <td>1</td>\n",
              "      <td>1</td>\n",
              "      <td>0</td>\n",
              "      <td>...</td>\n",
              "      <td>1</td>\n",
              "      <td>0</td>\n",
              "      <td>0</td>\n",
              "      <td>2</td>\n",
              "      <td>1</td>\n",
              "      <td>0</td>\n",
              "      <td>0</td>\n",
              "      <td>0</td>\n",
              "      <td>1</td>\n",
              "      <td>0</td>\n",
              "    </tr>\n",
              "    <tr>\n",
              "      <th>2266</th>\n",
              "      <td>65</td>\n",
              "      <td>5</td>\n",
              "      <td>1609</td>\n",
              "      <td>0</td>\n",
              "      <td>0</td>\n",
              "      <td>0</td>\n",
              "      <td>0</td>\n",
              "      <td>1</td>\n",
              "      <td>1</td>\n",
              "      <td>0</td>\n",
              "      <td>...</td>\n",
              "      <td>1</td>\n",
              "      <td>0</td>\n",
              "      <td>0</td>\n",
              "      <td>1</td>\n",
              "      <td>1</td>\n",
              "      <td>0</td>\n",
              "      <td>0</td>\n",
              "      <td>0</td>\n",
              "      <td>0</td>\n",
              "      <td>1</td>\n",
              "    </tr>\n",
              "    <tr>\n",
              "      <th>2267</th>\n",
              "      <td>77</td>\n",
              "      <td>9</td>\n",
              "      <td>288</td>\n",
              "      <td>1</td>\n",
              "      <td>0</td>\n",
              "      <td>0</td>\n",
              "      <td>0</td>\n",
              "      <td>1</td>\n",
              "      <td>0</td>\n",
              "      <td>1</td>\n",
              "      <td>...</td>\n",
              "      <td>1</td>\n",
              "      <td>0</td>\n",
              "      <td>0</td>\n",
              "      <td>0</td>\n",
              "      <td>1</td>\n",
              "      <td>0</td>\n",
              "      <td>0</td>\n",
              "      <td>1</td>\n",
              "      <td>0</td>\n",
              "      <td>0</td>\n",
              "    </tr>\n",
              "    <tr>\n",
              "      <th>2268</th>\n",
              "      <td>60</td>\n",
              "      <td>9</td>\n",
              "      <td>1946</td>\n",
              "      <td>1</td>\n",
              "      <td>0</td>\n",
              "      <td>0</td>\n",
              "      <td>0</td>\n",
              "      <td>1</td>\n",
              "      <td>0</td>\n",
              "      <td>1</td>\n",
              "      <td>...</td>\n",
              "      <td>1</td>\n",
              "      <td>0</td>\n",
              "      <td>0</td>\n",
              "      <td>1</td>\n",
              "      <td>1</td>\n",
              "      <td>0</td>\n",
              "      <td>0</td>\n",
              "      <td>1</td>\n",
              "      <td>0</td>\n",
              "      <td>0</td>\n",
              "    </tr>\n",
              "    <tr>\n",
              "      <th>2269</th>\n",
              "      <td>62</td>\n",
              "      <td>3</td>\n",
              "      <td>2425</td>\n",
              "      <td>1</td>\n",
              "      <td>0</td>\n",
              "      <td>0</td>\n",
              "      <td>0</td>\n",
              "      <td>1</td>\n",
              "      <td>0</td>\n",
              "      <td>0</td>\n",
              "      <td>...</td>\n",
              "      <td>1</td>\n",
              "      <td>0</td>\n",
              "      <td>0</td>\n",
              "      <td>1</td>\n",
              "      <td>1</td>\n",
              "      <td>0</td>\n",
              "      <td>0</td>\n",
              "      <td>1</td>\n",
              "      <td>0</td>\n",
              "      <td>0</td>\n",
              "    </tr>\n",
              "  </tbody>\n",
              "</table>\n",
              "<p>2254 rows × 107 columns</p>\n",
              "</div>\n",
              "      <button class=\"colab-df-convert\" onclick=\"convertToInteractive('df-87bb461b-8328-4cba-bf9c-677b7dfeec5e')\"\n",
              "              title=\"Convert this dataframe to an interactive table.\"\n",
              "              style=\"display:none;\">\n",
              "        \n",
              "  <svg xmlns=\"http://www.w3.org/2000/svg\" height=\"24px\"viewBox=\"0 0 24 24\"\n",
              "       width=\"24px\">\n",
              "    <path d=\"M0 0h24v24H0V0z\" fill=\"none\"/>\n",
              "    <path d=\"M18.56 5.44l.94 2.06.94-2.06 2.06-.94-2.06-.94-.94-2.06-.94 2.06-2.06.94zm-11 1L8.5 8.5l.94-2.06 2.06-.94-2.06-.94L8.5 2.5l-.94 2.06-2.06.94zm10 10l.94 2.06.94-2.06 2.06-.94-2.06-.94-.94-2.06-.94 2.06-2.06.94z\"/><path d=\"M17.41 7.96l-1.37-1.37c-.4-.4-.92-.59-1.43-.59-.52 0-1.04.2-1.43.59L10.3 9.45l-7.72 7.72c-.78.78-.78 2.05 0 2.83L4 21.41c.39.39.9.59 1.41.59.51 0 1.02-.2 1.41-.59l7.78-7.78 2.81-2.81c.8-.78.8-2.07 0-2.86zM5.41 20L4 18.59l7.72-7.72 1.47 1.35L5.41 20z\"/>\n",
              "  </svg>\n",
              "      </button>\n",
              "      \n",
              "  <style>\n",
              "    .colab-df-container {\n",
              "      display:flex;\n",
              "      flex-wrap:wrap;\n",
              "      gap: 12px;\n",
              "    }\n",
              "\n",
              "    .colab-df-convert {\n",
              "      background-color: #E8F0FE;\n",
              "      border: none;\n",
              "      border-radius: 50%;\n",
              "      cursor: pointer;\n",
              "      display: none;\n",
              "      fill: #1967D2;\n",
              "      height: 32px;\n",
              "      padding: 0 0 0 0;\n",
              "      width: 32px;\n",
              "    }\n",
              "\n",
              "    .colab-df-convert:hover {\n",
              "      background-color: #E2EBFA;\n",
              "      box-shadow: 0px 1px 2px rgba(60, 64, 67, 0.3), 0px 1px 3px 1px rgba(60, 64, 67, 0.15);\n",
              "      fill: #174EA6;\n",
              "    }\n",
              "\n",
              "    [theme=dark] .colab-df-convert {\n",
              "      background-color: #3B4455;\n",
              "      fill: #D2E3FC;\n",
              "    }\n",
              "\n",
              "    [theme=dark] .colab-df-convert:hover {\n",
              "      background-color: #434B5C;\n",
              "      box-shadow: 0px 1px 3px 1px rgba(0, 0, 0, 0.15);\n",
              "      filter: drop-shadow(0px 1px 2px rgba(0, 0, 0, 0.3));\n",
              "      fill: #FFFFFF;\n",
              "    }\n",
              "  </style>\n",
              "\n",
              "      <script>\n",
              "        const buttonEl =\n",
              "          document.querySelector('#df-87bb461b-8328-4cba-bf9c-677b7dfeec5e button.colab-df-convert');\n",
              "        buttonEl.style.display =\n",
              "          google.colab.kernel.accessAllowed ? 'block' : 'none';\n",
              "\n",
              "        async function convertToInteractive(key) {\n",
              "          const element = document.querySelector('#df-87bb461b-8328-4cba-bf9c-677b7dfeec5e');\n",
              "          const dataTable =\n",
              "            await google.colab.kernel.invokeFunction('convertToInteractive',\n",
              "                                                     [key], {});\n",
              "          if (!dataTable) return;\n",
              "\n",
              "          const docLinkHtml = 'Like what you see? Visit the ' +\n",
              "            '<a target=\"_blank\" href=https://colab.research.google.com/notebooks/data_table.ipynb>data table notebook</a>'\n",
              "            + ' to learn more about interactive tables.';\n",
              "          element.innerHTML = '';\n",
              "          dataTable['output_type'] = 'display_data';\n",
              "          await google.colab.output.renderOutput(dataTable, element);\n",
              "          const docLink = document.createElement('div');\n",
              "          docLink.innerHTML = docLinkHtml;\n",
              "          element.appendChild(docLink);\n",
              "        }\n",
              "      </script>\n",
              "    </div>\n",
              "  </div>\n",
              "  "
            ]
          },
          "metadata": {},
          "execution_count": 21
        }
      ]
    },
    {
      "cell_type": "markdown",
      "source": [
        "# BEFORE RESAMPLING"
      ],
      "metadata": {
        "id": "2i5F7zKL0eg9"
      }
    },
    {
      "cell_type": "markdown",
      "source": [
        "##FEATURES1 - SelectKBest"
      ],
      "metadata": {
        "id": "Hgb7zNAX8l93"
      }
    },
    {
      "cell_type": "code",
      "source": [
        "X_train, X_test, y_train, y_test = train_test_split(latest_df.drop(columns=['MMSE (INT)']),latest_df['MMSE (INT)'], test_size=0.2, random_state=1)\n",
        "\n",
        "#apply SelectKBest class to extract top 10 best features\n",
        "bestfeatures = SelectKBest(score_func=chi2, k=10)\n",
        "fit = bestfeatures.fit(X_train,y_train)\n",
        "dfscores = pd.DataFrame(fit.scores_)\n",
        "dfcolumns = pd.DataFrame(X_train.columns)\n",
        "#concat two dataframes for better visualization \n",
        "featureScores = pd.concat([dfcolumns,dfscores],axis=1)\n",
        "featureScores.columns = ['Specs','Score']  #naming the dataframe columns\n",
        "print(featureScores.nlargest(15,'Score'))  #print 15 best features"
      ],
      "metadata": {
        "colab": {
          "base_uri": "https://localhost:8080/"
        },
        "id": "Nk6Co4sk8kDt",
        "outputId": "26c10efb-f028-4ca5-f942-7e665c5fbb8f"
      },
      "execution_count": null,
      "outputs": [
        {
          "output_type": "stream",
          "name": "stdout",
          "text": [
            "                                   Specs         Score\n",
            "2                           total_income  70212.629156\n",
            "30        Bekas Perokok - Tahun Berhenti    160.184882\n",
            "0                                    AGE    104.314314\n",
            "12              Marital Status_Balu/Duda     76.124190\n",
            "5                        NEGERI_Kelantan     56.120448\n",
            "7                        NEGERI_Selangor     41.899436\n",
            "3                          GENDER_Lelaki     37.486498\n",
            "105                                Third     34.824460\n",
            "10   Job Sector Previously_Public Sector     31.878163\n",
            "14              Marital Status_Berkahwin     31.243359\n",
            "31     Jika Kurang 1 Tahun Berapa Batang     25.039193\n",
            "40                  WHODAS_baseline_None     23.374731\n",
            "43                  WHODAS_baseline_Some     21.809443\n",
            "96                Total_EpQ(Average)_Yes     20.499574\n",
            "17                    Tinggal _Sendirian     16.684522\n"
          ]
        }
      ]
    },
    {
      "cell_type": "code",
      "source": [
        "import seaborn as sns\n",
        "import matplotlib.pyplot as plt\n",
        "plt.figure(figsize=(15,10))\n",
        "sns.set_theme(style=\"darkgrid\")\n",
        "sns.lineplot(x=\"Specs\", y=\"Score\", data=featureScores.nlargest(15,'Score'))\n",
        "plt.xticks(rotation=90)\n",
        "plt.show()"
      ],
      "metadata": {
        "colab": {
          "base_uri": "https://localhost:8080/",
          "height": 799
        },
        "id": "QJ-xzWz4qH7n",
        "outputId": "f68d318a-98d4-4abb-82e2-a33a0bb9c91a"
      },
      "execution_count": null,
      "outputs": [
        {
          "output_type": "display_data",
          "data": {
            "text/plain": [
              "<Figure size 1080x720 with 1 Axes>"
            ],
            "image/png": "[encoded data removed]"
          },
          "metadata": {}
        }
      ]
    },
    {
      "cell_type": "code",
      "source": [
        "X_train_f= X_train[['total_income','Bekas Perokok - Tahun Berhenti','AGE','Marital Status_Balu/Duda','NEGERI_Kelantan','NEGERI_Selangor','GENDER_Lelaki','Job Sector Previously_Public Sector','Marital Status_Berkahwin','Third']]\n",
        "X_test_f= X_test[['total_income','Bekas Perokok - Tahun Berhenti','AGE','Marital Status_Balu/Duda','NEGERI_Kelantan','NEGERI_Selangor','GENDER_Lelaki','Job Sector Previously_Public Sector','Marital Status_Berkahwin','Third']]\n"
      ],
      "metadata": {
        "id": "nmNlw6wM71Ft"
      },
      "execution_count": null,
      "outputs": []
    },
    {
      "cell_type": "code",
      "source": [
        "X_train_f"
      ],
      "metadata": {
        "colab": {
          "base_uri": "https://localhost:8080/",
          "height": 424
        },
        "id": "wnpF3yhrMTQk",
        "outputId": "04c34a2a-30e1-4390-ad86-1ba66a96a3de"
      },
      "execution_count": null,
      "outputs": [
        {
          "output_type": "execute_result",
          "data": {
            "text/plain": [
              "      total_income  Bekas Perokok - Tahun Berhenti  AGE  \\\n",
              "1440          1609                               0   75   \n",
              "1655          1609                               0   61   \n",
              "918           2400                               5   76   \n",
              "1278          2788                               0   71   \n",
              "233           1113                               0   81   \n",
              "...            ...                             ...  ...   \n",
              "965           3588                               0   62   \n",
              "909           2800                               0   60   \n",
              "1103          2088                               0   70   \n",
              "237           1609                               0   64   \n",
              "1067           975                               0   64   \n",
              "\n",
              "      Marital Status_Balu/Duda  NEGERI_Kelantan  NEGERI_Selangor  \\\n",
              "1440                         0                1                0   \n",
              "1655                         0                1                0   \n",
              "918                          0                0                0   \n",
              "1278                         1                1                0   \n",
              "233                          0                0                0   \n",
              "...                        ...              ...              ...   \n",
              "965                          0                0                0   \n",
              "909                          1                0                0   \n",
              "1103                         0                1                0   \n",
              "237                          0                0                0   \n",
              "1067                         0                1                0   \n",
              "\n",
              "      GENDER_Lelaki  Job Sector Previously_Public Sector  \\\n",
              "1440              0                                    0   \n",
              "1655              1                                    0   \n",
              "918               1                                    1   \n",
              "1278              1                                    0   \n",
              "233               0                                    0   \n",
              "...             ...                                  ...   \n",
              "965               0                                    0   \n",
              "909               0                                    0   \n",
              "1103              1                                    1   \n",
              "237               0                                    0   \n",
              "1067              1                                    0   \n",
              "\n",
              "      Marital Status_Berkahwin  Third  \n",
              "1440                         1      1  \n",
              "1655                         1      0  \n",
              "918                          1      0  \n",
              "1278                         0      0  \n",
              "233                          1      0  \n",
              "...                        ...    ...  \n",
              "965                          1      0  \n",
              "909                          0      0  \n",
              "1103                         1      0  \n",
              "237                          1      1  \n",
              "1067                         1      0  \n",
              "\n",
              "[1803 rows x 10 columns]"
            ],
            "text/html": [
              "\n",
              "  <div id=\"df-89ac2877-0a47-4218-9de3-c9704508f68f\">\n",
              "    <div class=\"colab-df-container\">\n",
              "      <div>\n",
              "<style scoped>\n",
              "    .dataframe tbody tr th:only-of-type {\n",
              "        vertical-align: middle;\n",
              "    }\n",
              "\n",
              "    .dataframe tbody tr th {\n",
              "        vertical-align: top;\n",
              "    }\n",
              "\n",
              "    .dataframe thead th {\n",
              "        text-align: right;\n",
              "    }\n",
              "</style>\n",
              "<table border=\"1\" class=\"dataframe\">\n",
              "  <thead>\n",
              "    <tr style=\"text-align: right;\">\n",
              "      <th></th>\n",
              "      <th>total_income</th>\n",
              "      <th>Bekas Perokok - Tahun Berhenti</th>\n",
              "      <th>AGE</th>\n",
              "      <th>Marital Status_Balu/Duda</th>\n",
              "      <th>NEGERI_Kelantan</th>\n",
              "      <th>NEGERI_Selangor</th>\n",
              "      <th>GENDER_Lelaki</th>\n",
              "      <th>Job Sector Previously_Public Sector</th>\n",
              "      <th>Marital Status_Berkahwin</th>\n",
              "      <th>Third</th>\n",
              "    </tr>\n",
              "  </thead>\n",
              "  <tbody>\n",
              "    <tr>\n",
              "      <th>1440</th>\n",
              "      <td>1609</td>\n",
              "      <td>0</td>\n",
              "      <td>75</td>\n",
              "      <td>0</td>\n",
              "      <td>1</td>\n",
              "      <td>0</td>\n",
              "      <td>0</td>\n",
              "      <td>0</td>\n",
              "      <td>1</td>\n",
              "      <td>1</td>\n",
              "    </tr>\n",
              "    <tr>\n",
              "      <th>1655</th>\n",
              "      <td>1609</td>\n",
              "      <td>0</td>\n",
              "      <td>61</td>\n",
              "      <td>0</td>\n",
              "      <td>1</td>\n",
              "      <td>0</td>\n",
              "      <td>1</td>\n",
              "      <td>0</td>\n",
              "      <td>1</td>\n",
              "      <td>0</td>\n",
              "    </tr>\n",
              "    <tr>\n",
              "      <th>918</th>\n",
              "      <td>2400</td>\n",
              "      <td>5</td>\n",
              "      <td>76</td>\n",
              "      <td>0</td>\n",
              "      <td>0</td>\n",
              "      <td>0</td>\n",
              "      <td>1</td>\n",
              "      <td>1</td>\n",
              "      <td>1</td>\n",
              "      <td>0</td>\n",
              "    </tr>\n",
              "    <tr>\n",
              "      <th>1278</th>\n",
              "      <td>2788</td>\n",
              "      <td>0</td>\n",
              "      <td>71</td>\n",
              "      <td>1</td>\n",
              "      <td>1</td>\n",
              "      <td>0</td>\n",
              "      <td>1</td>\n",
              "      <td>0</td>\n",
              "      <td>0</td>\n",
              "      <td>0</td>\n",
              "    </tr>\n",
              "    <tr>\n",
              "      <th>233</th>\n",
              "      <td>1113</td>\n",
              "      <td>0</td>\n",
              "      <td>81</td>\n",
              "      <td>0</td>\n",
              "      <td>0</td>\n",
              "      <td>0</td>\n",
              "      <td>0</td>\n",
              "      <td>0</td>\n",
              "      <td>1</td>\n",
              "      <td>0</td>\n",
              "    </tr>\n",
              "    <tr>\n",
              "      <th>...</th>\n",
              "      <td>...</td>\n",
              "      <td>...</td>\n",
              "      <td>...</td>\n",
              "      <td>...</td>\n",
              "      <td>...</td>\n",
              "      <td>...</td>\n",
              "      <td>...</td>\n",
              "      <td>...</td>\n",
              "      <td>...</td>\n",
              "      <td>...</td>\n",
              "    </tr>\n",
              "    <tr>\n",
              "      <th>965</th>\n",
              "      <td>3588</td>\n",
              "      <td>0</td>\n",
              "      <td>62</td>\n",
              "      <td>0</td>\n",
              "      <td>0</td>\n",
              "      <td>0</td>\n",
              "      <td>0</td>\n",
              "      <td>0</td>\n",
              "      <td>1</td>\n",
              "      <td>0</td>\n",
              "    </tr>\n",
              "    <tr>\n",
              "      <th>909</th>\n",
              "      <td>2800</td>\n",
              "      <td>0</td>\n",
              "      <td>60</td>\n",
              "      <td>1</td>\n",
              "      <td>0</td>\n",
              "      <td>0</td>\n",
              "      <td>0</td>\n",
              "      <td>0</td>\n",
              "      <td>0</td>\n",
              "      <td>0</td>\n",
              "    </tr>\n",
              "    <tr>\n",
              "      <th>1103</th>\n",
              "      <td>2088</td>\n",
              "      <td>0</td>\n",
              "      <td>70</td>\n",
              "      <td>0</td>\n",
              "      <td>1</td>\n",
              "      <td>0</td>\n",
              "      <td>1</td>\n",
              "      <td>1</td>\n",
              "      <td>1</td>\n",
              "      <td>0</td>\n",
              "    </tr>\n",
              "    <tr>\n",
              "      <th>237</th>\n",
              "      <td>1609</td>\n",
              "      <td>0</td>\n",
              "      <td>64</td>\n",
              "      <td>0</td>\n",
              "      <td>0</td>\n",
              "      <td>0</td>\n",
              "      <td>0</td>\n",
              "      <td>0</td>\n",
              "      <td>1</td>\n",
              "      <td>1</td>\n",
              "    </tr>\n",
              "    <tr>\n",
              "      <th>1067</th>\n",
              "      <td>975</td>\n",
              "      <td>0</td>\n",
              "      <td>64</td>\n",
              "      <td>0</td>\n",
              "      <td>1</td>\n",
              "      <td>0</td>\n",
              "      <td>1</td>\n",
              "      <td>0</td>\n",
              "      <td>1</td>\n",
              "      <td>0</td>\n",
              "    </tr>\n",
              "  </tbody>\n",
              "</table>\n",
              "<p>1803 rows × 10 columns</p>\n",
              "</div>\n",
              "      <button class=\"colab-df-convert\" onclick=\"convertToInteractive('df-89ac2877-0a47-4218-9de3-c9704508f68f')\"\n",
              "              title=\"Convert this dataframe to an interactive table.\"\n",
              "              style=\"display:none;\">\n",
              "        \n",
              "  <svg xmlns=\"http://www.w3.org/2000/svg\" height=\"24px\"viewBox=\"0 0 24 24\"\n",
              "       width=\"24px\">\n",
              "    <path d=\"M0 0h24v24H0V0z\" fill=\"none\"/>\n",
              "    <path d=\"M18.56 5.44l.94 2.06.94-2.06 2.06-.94-2.06-.94-.94-2.06-.94 2.06-2.06.94zm-11 1L8.5 8.5l.94-2.06 2.06-.94-2.06-.94L8.5 2.5l-.94 2.06-2.06.94zm10 10l.94 2.06.94-2.06 2.06-.94-2.06-.94-.94-2.06-.94 2.06-2.06.94z\"/><path d=\"M17.41 7.96l-1.37-1.37c-.4-.4-.92-.59-1.43-.59-.52 0-1.04.2-1.43.59L10.3 9.45l-7.72 7.72c-.78.78-.78 2.05 0 2.83L4 21.41c.39.39.9.59 1.41.59.51 0 1.02-.2 1.41-.59l7.78-7.78 2.81-2.81c.8-.78.8-2.07 0-2.86zM5.41 20L4 18.59l7.72-7.72 1.47 1.35L5.41 20z\"/>\n",
              "  </svg>\n",
              "      </button>\n",
              "      \n",
              "  <style>\n",
              "    .colab-df-container {\n",
              "      display:flex;\n",
              "      flex-wrap:wrap;\n",
              "      gap: 12px;\n",
              "    }\n",
              "\n",
              "    .colab-df-convert {\n",
              "      background-color: #E8F0FE;\n",
              "      border: none;\n",
              "      border-radius: 50%;\n",
              "      cursor: pointer;\n",
              "      display: none;\n",
              "      fill: #1967D2;\n",
              "      height: 32px;\n",
              "      padding: 0 0 0 0;\n",
              "      width: 32px;\n",
              "    }\n",
              "\n",
              "    .colab-df-convert:hover {\n",
              "      background-color: #E2EBFA;\n",
              "      box-shadow: 0px 1px 2px rgba(60, 64, 67, 0.3), 0px 1px 3px 1px rgba(60, 64, 67, 0.15);\n",
              "      fill: #174EA6;\n",
              "    }\n",
              "\n",
              "    [theme=dark] .colab-df-convert {\n",
              "      background-color: #3B4455;\n",
              "      fill: #D2E3FC;\n",
              "    }\n",
              "\n",
              "    [theme=dark] .colab-df-convert:hover {\n",
              "      background-color: #434B5C;\n",
              "      box-shadow: 0px 1px 3px 1px rgba(0, 0, 0, 0.15);\n",
              "      filter: drop-shadow(0px 1px 2px rgba(0, 0, 0, 0.3));\n",
              "      fill: #FFFFFF;\n",
              "    }\n",
              "  </style>\n",
              "\n",
              "      <script>\n",
              "        const buttonEl =\n",
              "          document.querySelector('#df-89ac2877-0a47-4218-9de3-c9704508f68f button.colab-df-convert');\n",
              "        buttonEl.style.display =\n",
              "          google.colab.kernel.accessAllowed ? 'block' : 'none';\n",
              "\n",
              "        async function convertToInteractive(key) {\n",
              "          const element = document.querySelector('#df-89ac2877-0a47-4218-9de3-c9704508f68f');\n",
              "          const dataTable =\n",
              "            await google.colab.kernel.invokeFunction('convertToInteractive',\n",
              "                                                     [key], {});\n",
              "          if (!dataTable) return;\n",
              "\n",
              "          const docLinkHtml = 'Like what you see? Visit the ' +\n",
              "            '<a target=\"_blank\" href=https://colab.research.google.com/notebooks/data_table.ipynb>data table notebook</a>'\n",
              "            + ' to learn more about interactive tables.';\n",
              "          element.innerHTML = '';\n",
              "          dataTable['output_type'] = 'display_data';\n",
              "          await google.colab.output.renderOutput(dataTable, element);\n",
              "          const docLink = document.createElement('div');\n",
              "          docLink.innerHTML = docLinkHtml;\n",
              "          element.appendChild(docLink);\n",
              "        }\n",
              "      </script>\n",
              "    </div>\n",
              "  </div>\n",
              "  "
            ]
          },
          "metadata": {},
          "execution_count": 25
        }
      ]
    },
    {
      "cell_type": "markdown",
      "source": [
        "### Decision Tree Model"
      ],
      "metadata": {
        "id": "GIpY1pf7Mo8s"
      }
    },
    {
      "cell_type": "code",
      "source": [
        "dt= DecisionTreeClassifier()\n",
        "param_grid = {\n",
        "    'criterion' : ['gini','entropy'],\n",
        "    'max_depth' : range(1,10),\n",
        "    \"min_samples_split\": range(1,10),\n",
        "    \"min_samples_leaf\": range(1,5)\n",
        "}\n",
        "\n",
        "### Grid Search\n",
        "from sklearn.model_selection import GridSearchCV\n",
        "grid=GridSearchCV(dt, param_grid, cv=5,verbose=1,n_jobs=-1)\n",
        "grid.fit(X_train_f, y_train)\n",
        "\n",
        "print(grid.best_params_)\n",
        "print(grid.best_estimator_)\n",
        "print(grid.best_score_)\n",
        "\n",
        "best_params=grid.best_params_\n",
        "\n",
        "criterion=best_params[\"criterion\"]        \n",
        "max_depth=best_params[\"max_depth\"]\n",
        "min_samples_split=best_params[\"min_samples_split\"]\n",
        "min_samples_leaf=best_params[\"min_samples_leaf\"]\n",
        "\n",
        "print(\"max depth : \",max_depth)\n",
        "print(\"criterion： \", criterion)\n",
        "print(\"number of min_samples_split ： \", min_samples_split)\n",
        "print(\"number of min_samples_leaf ： \", min_samples_leaf)\n",
        "\n",
        "clf = DecisionTreeClassifier(criterion=criterion, max_depth=max_depth, min_samples_leaf=min_samples_leaf,\n",
        "                       min_samples_split=min_samples_split)\n",
        "#Train the model on the data\n",
        "clf.fit(X_train_f, y_train)\n",
        "\n",
        "#predict labels of seen data\n",
        "y_train_pred = clf.predict(X_train_f)\n",
        "\n",
        "# Predict labels of unseen (test) data\n",
        "y_pred = clf.predict(X_test_f)\n",
        "print(\"Train Accuracy of DecisionTree:\",metrics.accuracy_score(y_train, y_train_pred))\n",
        "print(\"Test Accuracy of DecisionTree:\",metrics.accuracy_score(y_test, y_pred))"
      ],
      "metadata": {
        "colab": {
          "base_uri": "https://localhost:8080/"
        },
        "id": "5YEjUPhGu7mP",
        "outputId": "94d518a8-00b1-4325-c7fe-3136be85c2df"
      },
      "execution_count": null,
      "outputs": [
        {
          "output_type": "stream",
          "name": "stdout",
          "text": [
            "Fitting 5 folds for each of 648 candidates, totalling 3240 fits\n",
            "{'criterion': 'gini', 'max_depth': 4, 'min_samples_leaf': 3, 'min_samples_split': 2}\n",
            "DecisionTreeClassifier(max_depth=4, min_samples_leaf=3)\n",
            "0.6888519544475223\n",
            "max depth :  4\n",
            "criterion：  gini\n",
            "number of min_samples_split ：  2\n",
            "number of min_samples_leaf ：  3\n",
            "Train Accuracy of DecisionTree: 0.7077093732667776\n",
            "Test Accuracy of DecisionTree: 0.7006651884700665\n"
          ]
        },
        {
          "output_type": "stream",
          "name": "stderr",
          "text": [
            "/usr/local/lib/python3.7/dist-packages/sklearn/model_selection/_validation.py:372: FitFailedWarning: \n",
            "360 fits failed out of a total of 3240.\n",
            "The score on these train-test partitions for these parameters will be set to nan.\n",
            "If these failures are not expected, you can try to debug them by setting error_score='raise'.\n",
            "\n",
            "Below are more details about the failures:\n",
            "--------------------------------------------------------------------------------\n",
            "360 fits failed with the following error:\n",
            "Traceback (most recent call last):\n",
            "  File \"/usr/local/lib/python3.7/dist-packages/sklearn/model_selection/_validation.py\", line 680, in _fit_and_score\n",
            "    estimator.fit(X_train, y_train, **fit_params)\n",
            "  File \"/usr/local/lib/python3.7/dist-packages/sklearn/tree/_classes.py\", line 942, in fit\n",
            "    X_idx_sorted=X_idx_sorted,\n",
            "  File \"/usr/local/lib/python3.7/dist-packages/sklearn/tree/_classes.py\", line 254, in fit\n",
            "    % self.min_samples_split\n",
            "ValueError: min_samples_split must be an integer greater than 1 or a float in (0.0, 1.0]; got the integer 1\n",
            "\n",
            "  warnings.warn(some_fits_failed_message, FitFailedWarning)\n",
            "/usr/local/lib/python3.7/dist-packages/sklearn/model_selection/_search.py:972: UserWarning: One or more of the test scores are non-finite: [       nan 0.64170206 0.64170206 0.64170206 0.64170206 0.64170206\n",
            " 0.64170206 0.64170206 0.64170206        nan 0.64170206 0.64170206\n",
            " 0.64170206 0.64170206 0.64170206 0.64170206 0.64170206 0.64170206\n",
            "        nan 0.64170206 0.64170206 0.64170206 0.64170206 0.64170206\n",
            " 0.64170206 0.64170206 0.64170206        nan 0.64170206 0.64170206\n",
            " 0.64170206 0.64170206 0.64170206 0.64170206 0.64170206 0.64170206\n",
            "        nan 0.66944598 0.66944598 0.66944598 0.66944598 0.66944598\n",
            " 0.66944598 0.66944598 0.66944598        nan 0.66944598 0.66944598\n",
            " 0.66944598 0.66944598 0.66944598 0.66944598 0.66944598 0.66944598\n",
            "        nan 0.66944598 0.66944598 0.66944598 0.66944598 0.66944598\n",
            " 0.66944598 0.66944598 0.66944598        nan 0.66944598 0.66944598\n",
            " 0.66944598 0.66944598 0.66944598 0.66944598 0.66944598 0.66944598\n",
            "        nan 0.6644506  0.6644506  0.6644506  0.6644506  0.6644506\n",
            " 0.6644506  0.6644506  0.6644506         nan 0.6644506  0.6644506\n",
            " 0.6644506  0.6644506  0.6644506  0.6644506  0.6644506  0.6644506\n",
            "        nan 0.6644506  0.6644506  0.6644506  0.6644506  0.6644506\n",
            " 0.6644506  0.6644506  0.6644506         nan 0.6644506  0.6644506\n",
            " 0.6644506  0.6644506  0.6644506  0.6644506  0.6644506  0.6644506\n",
            "        nan 0.68774392 0.68774392 0.68774392 0.68774392 0.68774392\n",
            " 0.68774392 0.68774392 0.68774392        nan 0.68774392 0.68774392\n",
            " 0.68774392 0.68774392 0.68774392 0.68774392 0.68774392 0.68774392\n",
            "        nan 0.68885195 0.68885195 0.68885195 0.68885195 0.68885195\n",
            " 0.68885195 0.68885195 0.68885195        nan 0.68885195 0.68885195\n",
            " 0.68885195 0.68885195 0.68885195 0.68885195 0.68885195 0.68885195\n",
            "        nan 0.68608033 0.68552632 0.68552632 0.68608033 0.68608033\n",
            " 0.68552632 0.68552632 0.68552632        nan 0.68552632 0.68552632\n",
            " 0.68552632 0.68552632 0.68552632 0.68552632 0.68552632 0.68552632\n",
            "        nan 0.68330717 0.68330717 0.68330717 0.68330717 0.68330717\n",
            " 0.68386119 0.6844152  0.6844152         nan 0.6849723  0.6849723\n",
            " 0.68441674 0.68441674 0.6849723  0.6849723  0.6849723  0.68441674\n",
            "        nan 0.68109418 0.68053863 0.67887504 0.68165282 0.68054017\n",
            " 0.6788735  0.67887196 0.67943059        nan 0.67943059 0.68053863\n",
            " 0.68054017 0.68054017 0.67887504 0.67887504 0.68054017 0.68054017\n",
            "        nan 0.67998461 0.67998461 0.67998153 0.67998461 0.68109264\n",
            " 0.68164666 0.67942752 0.67942752        nan 0.68109418 0.68053863\n",
            " 0.68054171 0.68164974 0.68164974 0.67998615 0.67998615 0.68164974\n",
            "        nan 0.67277778 0.67111419 0.67167128 0.67166974 0.67277778\n",
            " 0.67222068 0.67000308 0.67166667        nan 0.66889966 0.66834718\n",
            " 0.6689012  0.67001077 0.66945214 0.66778393 0.66778547 0.66778547\n",
            "        nan 0.67167282 0.67166974 0.6722253  0.67278239 0.67389043\n",
            " 0.67278239 0.67333487 0.67167128        nan 0.67055556 0.67000154\n",
            " 0.67056017 0.67055709 0.67055709 0.66778393 0.67166821 0.67110957\n",
            "        nan 0.65668975 0.65335642 0.6555771  0.65835488 0.65668359\n",
            " 0.65501847 0.65724069 0.65668513        nan 0.65670052 0.65670052\n",
            " 0.65836873 0.65614805 0.65558633 0.65558633 0.65392275 0.65391967\n",
            "        nan 0.65391505 0.65335796 0.6533595  0.65280394 0.65169283\n",
            " 0.65279932 0.65502462 0.65391505        nan 0.65668975 0.65446907\n",
            " 0.65502462 0.65724838 0.65668975 0.65724838 0.65613573 0.6561342\n",
            "        nan 0.64559403 0.64781933 0.64837488 0.64726531 0.64781471\n",
            " 0.64947984 0.64670822 0.64559865        nan 0.64949831 0.64949831\n",
            " 0.64839181 0.64839027 0.64894275 0.6478301  0.6478301  0.64616651\n",
            "        nan 0.65004309 0.64893044 0.6489289  0.64560172 0.64837642\n",
            " 0.64782241 0.64837642 0.65059403        nan 0.64060788 0.63949523\n",
            " 0.6411619  0.6378301  0.64060326 0.64171283 0.63893967 0.64060172\n",
            "        nan 0.64004463 0.64004463 0.64004463 0.64004463 0.64004463\n",
            " 0.64004463 0.64004463 0.64004463        nan 0.64004463 0.64004463\n",
            " 0.64004463 0.64004463 0.64004463 0.64004463 0.64004463 0.64004463\n",
            "        nan 0.64004463 0.64004463 0.64004463 0.64004463 0.64004463\n",
            " 0.64004463 0.64004463 0.64004463        nan 0.64004463 0.64004463\n",
            " 0.64004463 0.64004463 0.64004463 0.64004463 0.64004463 0.64004463\n",
            "        nan 0.65224531 0.65224531 0.65224531 0.65224531 0.65224531\n",
            " 0.65224531 0.65224531 0.65224531        nan 0.65224531 0.65224531\n",
            " 0.65224531 0.65224531 0.65224531 0.65224531 0.65224531 0.65224531\n",
            "        nan 0.65224531 0.65224531 0.65224531 0.65224531 0.65224531\n",
            " 0.65224531 0.65224531 0.65224531        nan 0.65224531 0.65224531\n",
            " 0.65224531 0.65224531 0.65224531 0.65224531 0.65224531 0.65224531\n",
            "        nan 0.66279009 0.66279009 0.66279009 0.66279009 0.66279009\n",
            " 0.66279009 0.66279009 0.66279009        nan 0.66279009 0.66279009\n",
            " 0.66279009 0.66279009 0.66279009 0.66279009 0.66279009 0.66279009\n",
            "        nan 0.66279009 0.66279009 0.66279009 0.66279009 0.66279009\n",
            " 0.66279009 0.66279009 0.66279009        nan 0.66279009 0.66279009\n",
            " 0.66279009 0.66279009 0.66279009 0.66279009 0.66279009 0.66279009\n",
            "        nan 0.67999384 0.67999384 0.67999384 0.67999384 0.67999384\n",
            " 0.67999384 0.67999384 0.67999384        nan 0.67999384 0.67999384\n",
            " 0.67999384 0.67999384 0.67999384 0.67999384 0.67999384 0.67999384\n",
            "        nan 0.67999384 0.67999384 0.67999384 0.67999384 0.67999384\n",
            " 0.67999384 0.67999384 0.67999384        nan 0.67833179 0.67833179\n",
            " 0.67833179 0.67833179 0.67833179 0.67833179 0.67833179 0.67833179\n",
            "        nan 0.67832718 0.67888119 0.67888119 0.67888119 0.67943521\n",
            " 0.67832718 0.67888119 0.67888119        nan 0.67777162 0.67832564\n",
            " 0.67777162 0.67832564 0.67832564 0.67832564 0.67777162 0.67832564\n",
            "        nan 0.67943675 0.67943675 0.67943675 0.67943675 0.67943675\n",
            " 0.67943675 0.67943675 0.67943675        nan 0.68275777 0.68275777\n",
            " 0.68275777 0.68275777 0.68275777 0.68275777 0.68275777 0.68275777\n",
            "        nan 0.67110803 0.67110803 0.67       0.67110803 0.67\n",
            " 0.67055556 0.67055402 0.67110957        nan 0.67       0.67\n",
            " 0.67055402 0.67055402 0.67       0.66944598 0.66944598 0.67\n",
            "        nan 0.67221914 0.67166513 0.67166513 0.67221914 0.67221914\n",
            " 0.67111111 0.67166513 0.67166513        nan 0.66999846 0.66999846\n",
            " 0.66999846 0.66999846 0.66999846 0.66999846 0.66999846 0.66999846\n",
            "        nan 0.65836103 0.65891505 0.66002616 0.65836257 0.65891659\n",
            " 0.6578101  0.65836411 0.65947215        nan 0.66002308 0.65836103\n",
            " 0.65946907 0.6605771  0.66168513 0.65946907 0.66113112 0.66113112\n",
            "        nan 0.66556479 0.66501077 0.66556479 0.66611881 0.66501077\n",
            " 0.66390274 0.66501077 0.66445676        nan 0.66279009 0.66279009\n",
            " 0.66168206 0.66279009 0.66168206 0.66279009 0.66168206 0.66168206\n",
            "        nan 0.64060634 0.64171437 0.6439366  0.64393352 0.64781471\n",
            " 0.6439366  0.64726223 0.64726377        nan 0.64281933 0.64115728\n",
            " 0.6417113  0.64281933 0.64669745 0.64448292 0.6439289  0.64614651\n",
            "        nan 0.64780702 0.64392428 0.64725146 0.64669591 0.64614497\n",
            " 0.64558941 0.64780548 0.6505771         nan 0.64946291 0.65112496\n",
            " 0.65223607 0.65168206 0.65279317 0.65112804 0.65223607 0.65279317\n",
            "        nan 0.6250831  0.62397353 0.63007541 0.62841336 0.62563712\n",
            " 0.63229917 0.62897045 0.63562327        nan 0.62397199 0.62175439\n",
            " 0.62064327 0.62231148 0.62341336 0.62729609 0.62619114 0.62951985\n",
            "        nan 0.63172976 0.63339181 0.63228378 0.63061865 0.6328378\n",
            " 0.63284087 0.63284087 0.64004617        nan 0.63616036 0.63560942\n",
            " 0.63616036 0.63727147 0.63671745 0.63449831 0.63560634 0.63616036]\n",
            "  category=UserWarning,\n"
          ]
        }
      ]
    },
    {
      "cell_type": "code",
      "source": [
        "conf_mat = confusion_matrix(y_test, y_pred)\n",
        "plt.figure(figsize = (10,7))\n",
        "sns.heatmap(conf_mat, square=True, annot=True, cmap='Blues', fmt='d', cbar=False)\n",
        "plt.xlabel('Predicted')\n",
        "plt.ylabel('Truth')\n",
        "plt.show()\n",
        "\n",
        "target_names = ['Severe', 'Mild', 'Normal']\n",
        "print(classification_report(y_test, y_pred, target_names=target_names))"
      ],
      "metadata": {
        "colab": {
          "base_uri": "https://localhost:8080/",
          "height": 625
        },
        "id": "HRWZwALqUEFP",
        "outputId": "c17ca9eb-d623-4445-faf8-4c277945ef51"
      },
      "execution_count": null,
      "outputs": [
        {
          "output_type": "display_data",
          "data": {
            "text/plain": [
              "<Figure size 720x504 with 1 Axes>"
            ],
            "image/png": "[encoded data removed]"
          },
          "metadata": {}
        },
        {
          "output_type": "stream",
          "name": "stdout",
          "text": [
            "              precision    recall  f1-score   support\n",
            "\n",
            "      Severe       0.76      0.39      0.52       137\n",
            "        Mild       0.69      0.94      0.80       280\n",
            "      Normal       0.00      0.00      0.00        34\n",
            "\n",
            "    accuracy                           0.70       451\n",
            "   macro avg       0.48      0.44      0.44       451\n",
            "weighted avg       0.66      0.70      0.65       451\n",
            "\n"
          ]
        }
      ]
    },
    {
      "cell_type": "markdown",
      "source": [
        "### Random Forest Model\n"
      ],
      "metadata": {
        "id": "J4ETTkXDMv_Y"
      }
    },
    {
      "cell_type": "code",
      "source": [
        "### Grid Search to tune hyperparameter for random forest\n",
        "param_grid = {\n",
        "    'n_estimators' : [50,60,65,70,75,80,85,90,100],\n",
        "    'max_depth' : [5,6,7,8,9,10,11,12]\n",
        "}\n",
        "\n",
        "### Grid Search\n",
        "RF=GridSearchCV(RandomForestClassifier(random_state=10), param_grid, cv=10,n_jobs=3)\n",
        "RF.fit(X_train, y_train)\n",
        "\n",
        "best_params=RF.best_params_\n",
        "        \n",
        "max_depth=best_params[\"max_depth\"]\n",
        "n_estimators=best_params[\"n_estimators\"]\n",
        "\n",
        "print(\"max depth : \",max_depth)\n",
        "print(\"number of estimators ： \", n_estimators)\n",
        "        \n",
        "rf=RandomForestClassifier(random_state=10,n_estimators=n_estimators,max_depth=max_depth)\n",
        "rf.fit(X_train_f, y_train)\n",
        "\n",
        "# Predict labels of unseen (test) data\n",
        "y_train_pred = rf.predict(X_train_f)\n",
        "y_pred = rf.predict(X_test_f)\n",
        "print(\"Train Accuracy of RandomForest:\",metrics.accuracy_score(y_train, y_train_pred))\n",
        "print(\"Test Accuracy of RandomForest:\",metrics.accuracy_score(y_test, y_pred))"
      ],
      "metadata": {
        "colab": {
          "base_uri": "https://localhost:8080/"
        },
        "id": "gtFBRuK493ik",
        "outputId": "52c61f96-d5a0-4750-82d8-14f2dbf5f018"
      },
      "execution_count": null,
      "outputs": [
        {
          "output_type": "stream",
          "name": "stdout",
          "text": [
            "max depth :  8\n",
            "number of estimators ：  75\n",
            "Train Accuracy of RandomForest: 0.7542983915696062\n",
            "Test Accuracy of RandomForest: 0.6917960088691796\n"
          ]
        }
      ]
    },
    {
      "cell_type": "code",
      "source": [
        "conf_mat = confusion_matrix(y_test, y_pred)\n",
        "plt.figure(figsize = (10,7))\n",
        "sns.heatmap(conf_mat, square=True, annot=True, cmap='Blues', fmt='d', cbar=False)\n",
        "plt.xlabel('Predicted')\n",
        "plt.ylabel('Truth')\n",
        "plt.show()\n",
        "\n",
        "target_names = ['Severe', 'Mild', 'Normal']\n",
        "print(classification_report(y_test, y_pred, target_names=target_names))"
      ],
      "metadata": {
        "colab": {
          "base_uri": "https://localhost:8080/",
          "height": 625
        },
        "id": "tsMyG6biT2Tm",
        "outputId": "5dbb9855-c2db-4db5-d197-31debbdd6b52"
      },
      "execution_count": null,
      "outputs": [
        {
          "output_type": "display_data",
          "data": {
            "text/plain": [
              "<Figure size 720x504 with 1 Axes>"
            ],
            "image/png": "[encoded data removed]"
          },
          "metadata": {}
        },
        {
          "output_type": "stream",
          "name": "stdout",
          "text": [
            "              precision    recall  f1-score   support\n",
            "\n",
            "      Severe       0.77      0.32      0.45       137\n",
            "        Mild       0.68      0.95      0.79       280\n",
            "      Normal       0.50      0.03      0.06        34\n",
            "\n",
            "    accuracy                           0.69       451\n",
            "   macro avg       0.65      0.43      0.43       451\n",
            "weighted avg       0.70      0.69      0.64       451\n",
            "\n"
          ]
        }
      ]
    },
    {
      "cell_type": "markdown",
      "source": [
        "# AFTER RESAMPLING"
      ],
      "metadata": {
        "id": "yHGxLJu_VE8I"
      }
    },
    {
      "cell_type": "code",
      "source": [
        "from imblearn.over_sampling import SMOTE\n",
        "from imblearn.under_sampling import RandomUnderSampler\n",
        "from imblearn.pipeline import Pipeline\n",
        "\n",
        "X_train, X_test, y_train, y_test = train_test_split(latest_df.drop(columns=['MMSE (INT)']),latest_df['MMSE (INT)'], test_size=0.2, random_state=1)\n",
        "\n",
        "over = SMOTE()\n",
        "under = RandomUnderSampler()\n",
        "steps = [('o', over), ('u', under)]\n",
        "pipeline = Pipeline(steps=steps)\n",
        "# transform the dataset\n",
        "X_train_2, y_train_2 = pipeline.fit_resample(X_train, y_train)\n",
        "\n",
        "print(X_train.shape,y_train.shape)\n",
        "print(X_train_2.shape,y_train_2.shape)\n",
        "print(y_train_2.reset_index().groupby(\"MMSE (INT)\").size())\n",
        "\n",
        "X_train = X_train_2.copy()\n",
        "y_train = y_train_2.copy()"
      ],
      "metadata": {
        "colab": {
          "base_uri": "https://localhost:8080/"
        },
        "id": "T_KfG0sSVSO8",
        "outputId": "7ad7af1b-3b90-49c2-a082-1940834bc620"
      },
      "execution_count": null,
      "outputs": [
        {
          "output_type": "stream",
          "name": "stdout",
          "text": [
            "(1803, 106) (1803,)\n",
            "(3462, 106) (3462,)\n",
            "MMSE (INT)\n",
            "0    1154\n",
            "1    1154\n",
            "2    1154\n",
            "dtype: int64\n"
          ]
        }
      ]
    },
    {
      "cell_type": "markdown",
      "source": [
        "### SELECT K-BEST"
      ],
      "metadata": {
        "id": "C4NFtbVrnSCI"
      }
    },
    {
      "cell_type": "code",
      "source": [
        "#apply SelectKBest class to extract top 15 best features\n",
        "bestfeatures = SelectKBest(score_func=chi2, k=10)\n",
        "fit = bestfeatures.fit(X_train,y_train)\n",
        "dfscores = pd.DataFrame(fit.scores_)\n",
        "dfcolumns = pd.DataFrame(X_train.columns)\n",
        "#concat two dataframes for better visualization \n",
        "featureScores = pd.concat([dfcolumns,dfscores],axis=1)\n",
        "featureScores.columns = ['Specs','Score']  #naming the dataframe columns\n",
        "print(featureScores.nlargest(15,'Score'))  #print 15 best features"
      ],
      "metadata": {
        "colab": {
          "base_uri": "https://localhost:8080/"
        },
        "id": "r6xltbCIYkAI",
        "outputId": "8c44f9c0-4294-4c95-e16d-952d83ad931a"
      },
      "execution_count": null,
      "outputs": [
        {
          "output_type": "stream",
          "name": "stdout",
          "text": [
            "                                 Specs          Score\n",
            "2                         total_income  290974.624806\n",
            "30      Bekas Perokok - Tahun Berhenti     466.891389\n",
            "5                      NEGERI_Kelantan     295.694215\n",
            "0                                  AGE     291.435289\n",
            "12            Marital Status_Balu/Duda     274.912863\n",
            "43                WHODAS_baseline_Some     173.872279\n",
            "3                        GENDER_Lelaki     173.284330\n",
            "14            Marital Status_Berkahwin     144.587280\n",
            "31   Jika Kurang 1 Tahun Berapa Batang     132.200000\n",
            "7                      NEGERI_Selangor     114.283044\n",
            "40                WHODAS_baseline_None     101.097929\n",
            "17                  Tinggal _Sendirian      92.775000\n",
            "96              Total_EpQ(Average)_Yes      88.356877\n",
            "29                        Rokok Sehari      87.576909\n",
            "102                              First      84.426087\n"
          ]
        }
      ]
    },
    {
      "cell_type": "code",
      "source": [
        "import seaborn as sns\n",
        "import matplotlib.pyplot as plt\n",
        "plt.figure(figsize=(20,10))\n",
        "sns.set_theme(style=\"darkgrid\")\n",
        "sns.lineplot(x=\"Specs\", y=\"Score\", data=featureScores.nlargest(15,'Score'))\n",
        "plt.xticks(rotation=90)\n",
        "plt.show()"
      ],
      "metadata": {
        "colab": {
          "base_uri": "https://localhost:8080/",
          "height": 799
        },
        "id": "vFsw_j5DawSs",
        "outputId": "641cfa90-ce01-4136-8451-d54ef87714b2"
      },
      "execution_count": null,
      "outputs": [
        {
          "output_type": "display_data",
          "data": {
            "text/plain": [
              "<Figure size 1440x720 with 1 Axes>"
            ],
            "image/png": "[encoded data removed]"
          },
          "metadata": {}
        }
      ]
    },
    {
      "cell_type": "code",
      "source": [
        "X_train_f= X_train[['total_income','Bekas Perokok - Tahun Berhenti','AGE','Marital Status_Balu/Duda','NEGERI_Kelantan','WHODAS_baseline_Some',\n",
        "                    'GENDER_Lelaki','Marital Status_Berkahwin','Jika Kurang 1 Tahun Berapa Batang','WHODAS_baseline_None','NEGERI_Selangor',]]\n",
        "X_test_f= X_test[['total_income','Bekas Perokok - Tahun Berhenti','AGE','Marital Status_Balu/Duda','NEGERI_Kelantan','WHODAS_baseline_Some',\n",
        "                    'GENDER_Lelaki','Marital Status_Berkahwin','Jika Kurang 1 Tahun Berapa Batang','WHODAS_baseline_None','NEGERI_Selangor',]]"
      ],
      "metadata": {
        "id": "Q9o9rFGAbeUx"
      },
      "execution_count": null,
      "outputs": []
    },
    {
      "cell_type": "markdown",
      "source": [
        "## Decision Tree Model"
      ],
      "metadata": {
        "id": "Gk4CUxMyaWTL"
      }
    },
    {
      "cell_type": "code",
      "source": [
        "dt= DecisionTreeClassifier()\n",
        "param_grid = {\n",
        "    'criterion' : ['gini','entropy'],\n",
        "    'max_depth' : range(1,10),\n",
        "    \"min_samples_split\": range(1,10),\n",
        "    \"min_samples_leaf\": range(1,5)\n",
        "}\n",
        "\n",
        "### Grid Search\n",
        "from sklearn.model_selection import GridSearchCV\n",
        "grid=GridSearchCV(dt, param_grid, cv=5,verbose=1,n_jobs=-1)\n",
        "grid.fit(X_train_f, y_train)\n",
        "\n",
        "print(grid.best_params_)\n",
        "print(grid.best_estimator_)\n",
        "print(grid.best_score_)\n",
        "\n",
        "best_params=grid.best_params_\n",
        "\n",
        "criterion=best_params[\"criterion\"]        \n",
        "max_depth=best_params[\"max_depth\"]\n",
        "min_samples_split=best_params[\"min_samples_split\"]\n",
        "min_samples_leaf=best_params[\"min_samples_leaf\"]\n",
        "\n",
        "print(\"max depth : \",max_depth)\n",
        "print(\"criterion： \", criterion)\n",
        "print(\"number of min_samples_split ： \", min_samples_split)\n",
        "print(\"number of min_samples_leaf ： \", min_samples_leaf)\n",
        "\n",
        "clf = DecisionTreeClassifier(criterion=criterion, max_depth=max_depth, min_samples_leaf=min_samples_leaf,\n",
        "                       min_samples_split=min_samples_split)\n",
        "\n",
        "#Train the model on the data\n",
        "clf.fit(X_train_f, y_train)\n",
        "\n",
        "#predict labels of seen data\n",
        "y_train_pred = clf.predict(X_train_f)\n",
        "\n",
        "# Predict labels of unseen (test) data\n",
        "y_pred = clf.predict(X_test_f)\n",
        "print(\"Train Accuracy of DecisionTree:\",metrics.accuracy_score(y_train, y_train_pred))\n",
        "print(\"Test Accuracy of DecisionTree:\",metrics.accuracy_score(y_test, y_pred))"
      ],
      "metadata": {
        "colab": {
          "base_uri": "https://localhost:8080/"
        },
        "id": "7wtVLDQca61n",
        "outputId": "cc17ee60-7b13-44c2-c882-5e7257c42b1e"
      },
      "execution_count": null,
      "outputs": [
        {
          "output_type": "stream",
          "name": "stdout",
          "text": [
            "Fitting 5 folds for each of 648 candidates, totalling 3240 fits\n",
            "{'criterion': 'entropy', 'max_depth': 9, 'min_samples_leaf': 3, 'min_samples_split': 4}\n",
            "DecisionTreeClassifier(criterion='entropy', max_depth=9, min_samples_leaf=3,\n",
            "                       min_samples_split=4)\n",
            "0.6753363527930002\n",
            "max depth :  9\n",
            "criterion：  entropy\n",
            "number of min_samples_split ：  4\n",
            "number of min_samples_leaf ：  3\n",
            "Train Accuracy of DecisionTree: 0.7599653379549394\n",
            "Test Accuracy of DecisionTree: 0.5432372505543237\n"
          ]
        },
        {
          "output_type": "stream",
          "name": "stderr",
          "text": [
            "/usr/local/lib/python3.7/dist-packages/sklearn/model_selection/_validation.py:372: FitFailedWarning: \n",
            "360 fits failed out of a total of 3240.\n",
            "The score on these train-test partitions for these parameters will be set to nan.\n",
            "If these failures are not expected, you can try to debug them by setting error_score='raise'.\n",
            "\n",
            "Below are more details about the failures:\n",
            "--------------------------------------------------------------------------------\n",
            "360 fits failed with the following error:\n",
            "Traceback (most recent call last):\n",
            "  File \"/usr/local/lib/python3.7/dist-packages/sklearn/model_selection/_validation.py\", line 680, in _fit_and_score\n",
            "    estimator.fit(X_train, y_train, **fit_params)\n",
            "  File \"/usr/local/lib/python3.7/dist-packages/sklearn/tree/_classes.py\", line 942, in fit\n",
            "    X_idx_sorted=X_idx_sorted,\n",
            "  File \"/usr/local/lib/python3.7/dist-packages/sklearn/tree/_classes.py\", line 254, in fit\n",
            "    % self.min_samples_split\n",
            "ValueError: min_samples_split must be an integer greater than 1 or a float in (0.0, 1.0]; got the integer 1\n",
            "\n",
            "  warnings.warn(some_fits_failed_message, FitFailedWarning)\n",
            "/usr/local/lib/python3.7/dist-packages/sklearn/model_selection/_search.py:972: UserWarning: One or more of the test scores are non-finite: [       nan 0.45292813 0.45292813 0.45292813 0.45292813 0.45292813\n",
            " 0.45292813 0.45292813 0.45292813        nan 0.45292813 0.45292813\n",
            " 0.45292813 0.45292813 0.45292813 0.45292813 0.45292813 0.45292813\n",
            "        nan 0.45292813 0.45292813 0.45292813 0.45292813 0.45292813\n",
            " 0.45292813 0.45292813 0.45292813        nan 0.45292813 0.45292813\n",
            " 0.45292813 0.45292813 0.45292813 0.45292813 0.45292813 0.45292813\n",
            "        nan 0.54651553 0.54651553 0.54651553 0.54651553 0.54651553\n",
            " 0.54651553 0.54651553 0.54651553        nan 0.54651553 0.54651553\n",
            " 0.54651553 0.54651553 0.54651553 0.54651553 0.54651553 0.54651553\n",
            "        nan 0.54651553 0.54651553 0.54651553 0.54651553 0.54651553\n",
            " 0.54651553 0.54651553 0.54651553        nan 0.54651553 0.54651553\n",
            " 0.54651553 0.54651553 0.54651553 0.54651553 0.54651553 0.54651553\n",
            "        nan 0.5820338  0.5820338  0.5820338  0.5820338  0.5820338\n",
            " 0.5820338  0.5820338  0.5820338         nan 0.5820338  0.5820338\n",
            " 0.5820338  0.5820338  0.5820338  0.5820338  0.5820338  0.5820338\n",
            "        nan 0.5820338  0.5820338  0.5820338  0.5820338  0.5820338\n",
            " 0.5820338  0.5820338  0.5820338         nan 0.5820338  0.5820338\n",
            " 0.5820338  0.5820338  0.5820338  0.5820338  0.5820338  0.5820338\n",
            "        nan 0.60456214 0.60456214 0.60456214 0.60456214 0.60456214\n",
            " 0.60456214 0.60456214 0.60456214        nan 0.60456214 0.60456214\n",
            " 0.60456214 0.60456214 0.60456214 0.60456214 0.60456214 0.60456214\n",
            "        nan 0.60456214 0.60456214 0.60456214 0.60456214 0.60456214\n",
            " 0.60456214 0.60456214 0.60456214        nan 0.60456214 0.60456214\n",
            " 0.60456214 0.60456214 0.60456214 0.60456214 0.60456214 0.60456214\n",
            "        nan 0.62536471 0.62536471 0.62536471 0.62536471 0.62536471\n",
            " 0.62536471 0.62536471 0.62536471        nan 0.62536471 0.62536471\n",
            " 0.62536471 0.62536471 0.62536471 0.62536471 0.62536471 0.62536471\n",
            "        nan 0.62565331 0.62565331 0.62565331 0.62565331 0.62565331\n",
            " 0.62565331 0.62565331 0.62565331        nan 0.62565331 0.62565331\n",
            " 0.62565331 0.62565331 0.62565331 0.62565331 0.62565331 0.62565331\n",
            "        nan 0.63777703 0.63662221 0.63662263 0.63691081 0.63662221\n",
            " 0.63806563 0.63777661 0.63719941        nan 0.63691123 0.63806563\n",
            " 0.63719983 0.63633319 0.63806563 0.63806521 0.63691123 0.63748843\n",
            "        nan 0.63748843 0.63893143 0.63864241 0.63835339 0.63748801\n",
            " 0.63864241 0.63719899 0.63777661        nan 0.63517671 0.63633111\n",
            " 0.63517671 0.63488769 0.63604209 0.63633111 0.63662012 0.63633111\n",
            "        nan 0.63403565 0.6320142  0.63345845 0.63432467 0.63316943\n",
            " 0.63374663 0.63432675 0.63605835        nan 0.63432467 0.63317027\n",
            " 0.63461327 0.63403648 0.63461452 0.63317068 0.63432717 0.63692541\n",
            "        nan 0.63519255 0.63663555 0.63605794 0.63490354 0.63663514\n",
            " 0.63634612 0.63721317 0.63721359        nan 0.63374705 0.63345803\n",
            " 0.63345803 0.63461243 0.63461243 0.63461243 0.63374705 0.63374622\n",
            "        nan 0.65166154 0.65252859 0.65454879 0.65368216 0.65397034\n",
            " 0.65454837 0.65599304 0.65541584        nan 0.65454629 0.65339064\n",
            " 0.65367965 0.65339189 0.65454545 0.65454545 0.65685676 0.65512557\n",
            "        nan 0.65887738 0.65945458 0.65858794 0.6591664  0.65858794\n",
            " 0.65801074 0.65916514 0.65772298        nan 0.65945249 0.65800908\n",
            " 0.65916348 0.65800908 0.65945249 0.65858711 0.65916348 0.65829768\n",
            "        nan 0.66379651 0.66408511 0.66235184 0.66581713 0.66697403\n",
            " 0.66466231 0.66552811 0.66408386        nan 0.66523534 0.66523576\n",
            " 0.66465814 0.66321222 0.66408052 0.66408011 0.66350207 0.66321389\n",
            "        nan 0.66581421 0.6672568  0.66552436 0.66581338 0.66783441\n",
            " 0.66552269 0.66494591 0.66379151        nan 0.66638682 0.66609781\n",
            " 0.66754289 0.66581046 0.66754289 0.66609948 0.66609781 0.66465564\n",
            "        nan 0.41622292 0.41622292 0.41622292 0.41622292 0.41622292\n",
            " 0.41622292 0.41622292 0.41622292        nan 0.41622292 0.41622292\n",
            " 0.41622292 0.41622292 0.41622292 0.41622292 0.41622292 0.41622292\n",
            "        nan 0.41622292 0.41622292 0.41622292 0.41622292 0.41622292\n",
            " 0.41622292 0.41622292 0.41622292        nan 0.41622292 0.41622292\n",
            " 0.41622292 0.41622292 0.41622292 0.41622292 0.41622292 0.41622292\n",
            "        nan 0.51126167 0.51126167 0.51126167 0.51126167 0.51126167\n",
            " 0.51126167 0.51126167 0.51126167        nan 0.51126167 0.51126167\n",
            " 0.51126167 0.51126167 0.51126167 0.51126167 0.51126167 0.51126167\n",
            "        nan 0.51126167 0.51126167 0.51126167 0.51126167 0.51126167\n",
            " 0.51126167 0.51126167 0.51126167        nan 0.51126167 0.51126167\n",
            " 0.51126167 0.51126167 0.51126167 0.51126167 0.51126167 0.51126167\n",
            "        nan 0.53696294 0.53696294 0.53696294 0.53696294 0.53696294\n",
            " 0.53696294 0.53696294 0.53696294        nan 0.53696294 0.53696294\n",
            " 0.53696294 0.53696294 0.53696294 0.53696294 0.53696294 0.53696294\n",
            "        nan 0.53696294 0.53696294 0.53696294 0.53696294 0.53696294\n",
            " 0.53696294 0.53696294 0.53696294        nan 0.53696294 0.53696294\n",
            " 0.53696294 0.53696294 0.53696294 0.53696294 0.53696294 0.53696294\n",
            "        nan 0.60283053 0.60283053 0.60283053 0.60283053 0.60283053\n",
            " 0.60283053 0.60283053 0.60283053        nan 0.60283053 0.60283053\n",
            " 0.60283053 0.60283053 0.60283053 0.60283053 0.60283053 0.60283053\n",
            "        nan 0.60283053 0.60283053 0.60283053 0.60283053 0.60283053\n",
            " 0.60283053 0.60283053 0.60283053        nan 0.60283053 0.60283053\n",
            " 0.60283053 0.60283053 0.60283053 0.60283053 0.60283053 0.60283053\n",
            "        nan 0.61669252 0.61698154 0.61669252 0.61669252 0.61669252\n",
            " 0.61669252 0.61669252 0.61669252        nan 0.61698154 0.61698154\n",
            " 0.61698154 0.61669252 0.61669252 0.61698154 0.61669252 0.61669252\n",
            "        nan 0.61669252 0.61669252 0.61669252 0.61669252 0.61669252\n",
            " 0.61698154 0.61698154 0.61669252        nan 0.61698154 0.61698154\n",
            " 0.61698154 0.61698154 0.61698154 0.61698154 0.61698154 0.61698154\n",
            "        nan 0.63373621 0.63460326 0.63373621 0.63460326 0.63431424\n",
            " 0.63402481 0.63373621 0.63518046        nan 0.63402564 0.63431424\n",
            " 0.63431424 0.63431424 0.63402522 0.63402522 0.63286957 0.63431382\n",
            "        nan 0.63402564 0.63373704 0.63373704 0.63402564 0.63373704\n",
            " 0.63402564 0.63373704 0.63431424        nan 0.63431507 0.63431507\n",
            " 0.63373704 0.63373704 0.63373704 0.63431507 0.63373704 0.63402606\n",
            "        nan 0.64442359 0.64644421 0.64326836 0.64471094 0.64413249\n",
            " 0.64355654 0.64528856 0.64673156        nan 0.64413291 0.64413332\n",
            " 0.6426899  0.64384389 0.64297767 0.64297684 0.64297725 0.64384222\n",
            "        nan 0.64442109 0.64499787 0.64557507 0.64413207 0.64557549\n",
            " 0.64355529 0.64355529 0.64586326        nan 0.6406672  0.64153425\n",
            " 0.64095622 0.64124524 0.64268824 0.64095622 0.64239922 0.64239922\n",
            "        nan 0.6565569  0.65395741 0.65511348 0.65395783 0.65395741\n",
            " 0.65424518 0.65511181 0.65453503        nan 0.65337979 0.65309161\n",
            " 0.65453461 0.65337854 0.65280134 0.65280092 0.65309036 0.65366881\n",
            "        nan 0.65568985 0.65684425 0.65713285 0.6582885  0.65626705\n",
            " 0.6556886  0.65655523 0.65511139        nan 0.66001802 0.66001885\n",
            " 0.65944082 0.65857502 0.66001968 0.66059689 0.66001968 0.65771005\n",
            "        nan 0.6733199  0.67129762 0.67216342 0.6712972  0.67100777\n",
            " 0.67389585 0.67303047 0.67447347        nan 0.67013779 0.6718719\n",
            " 0.67129511 0.67071583 0.6715833  0.67302547 0.67215966 0.67302547\n",
            "        nan 0.67389335 0.6727377  0.67533635 0.67273603 0.67475874\n",
            " 0.6738921  0.67475915 0.67273603        nan 0.67013362 0.66926574\n",
            " 0.67013279 0.66926532 0.66984336 0.67128886 0.66897839 0.66955809]\n",
            "  category=UserWarning,\n"
          ]
        }
      ]
    },
    {
      "cell_type": "code",
      "source": [
        "conf_mat = confusion_matrix(y_test, y_pred)\n",
        "plt.figure(figsize = (10,7))\n",
        "sns.heatmap(conf_mat, square=True, annot=True, cmap='Blues', fmt='d', cbar=False)\n",
        "plt.xlabel('Predicted')\n",
        "plt.ylabel('Truth')\n",
        "plt.show()\n",
        "\n",
        "target_names = ['Severe', 'Mild', 'Normal']\n",
        "print(classification_report(y_test, y_pred, target_names=target_names))"
      ],
      "metadata": {
        "colab": {
          "base_uri": "https://localhost:8080/",
          "height": 625
        },
        "id": "zwU9aL5IcXrv",
        "outputId": "7fe90c59-90f8-40b2-847b-ea2f32325a35"
      },
      "execution_count": null,
      "outputs": [
        {
          "output_type": "display_data",
          "data": {
            "text/plain": [
              "<Figure size 720x504 with 1 Axes>"
            ],
            "image/png": "[encoded data removed]"
          },
          "metadata": {}
        },
        {
          "output_type": "stream",
          "name": "stdout",
          "text": [
            "              precision    recall  f1-score   support\n",
            "\n",
            "      Severe       0.50      0.50      0.50       137\n",
            "        Mild       0.69      0.60      0.64       280\n",
            "      Normal       0.14      0.29      0.19        34\n",
            "\n",
            "    accuracy                           0.54       451\n",
            "   macro avg       0.44      0.46      0.44       451\n",
            "weighted avg       0.59      0.54      0.56       451\n",
            "\n"
          ]
        }
      ]
    },
    {
      "cell_type": "markdown",
      "source": [
        "## Random Forest Model"
      ],
      "metadata": {
        "id": "7h4yUhcWclgW"
      }
    },
    {
      "cell_type": "code",
      "source": [
        "### Grid Search to tune hyperparameter for random forest\n",
        "param_grid = {\n",
        "    'n_estimators' : [50,60,65,70,75,80,85,90,100],\n",
        "    'max_depth' : [5,6,7,8,9,10,11,12]\n",
        "}\n",
        "\n",
        "### Grid Search\n",
        "RF=GridSearchCV(RandomForestClassifier(random_state=10), param_grid, cv=10,n_jobs=3)\n",
        "RF.fit(X_train, y_train)\n",
        "\n",
        "best_params=RF.best_params_\n",
        "        \n",
        "max_depth=best_params[\"max_depth\"]\n",
        "n_estimators=best_params[\"n_estimators\"]\n",
        "\n",
        "print(\"max depth : \",max_depth)\n",
        "print(\"number of estimators ： \", n_estimators)\n",
        "        \n",
        "rf=RandomForestClassifier(random_state=10,n_estimators=n_estimators,max_depth=max_depth)\n",
        "rf.fit(X_train_f, y_train)\n",
        "\n",
        "# Predict labels of unseen (test) data\n",
        "y_train_pred = rf.predict(X_train_f)\n",
        "y_pred = rf.predict(X_test_f)\n",
        "print(\"Train Accuracy of RandomForest:\",metrics.accuracy_score(y_train, y_train_pred))\n",
        "print(\"Test Accuracy of RandomForest:\",metrics.accuracy_score(y_test, y_pred))"
      ],
      "metadata": {
        "colab": {
          "base_uri": "https://localhost:8080/"
        },
        "id": "bkzW9x4bcoY5",
        "outputId": "bd9ab3cb-7858-4d0f-c4e6-aaa8ee46b6c8"
      },
      "execution_count": null,
      "outputs": [
        {
          "output_type": "stream",
          "name": "stdout",
          "text": [
            "max depth :  12\n",
            "number of estimators ：  100\n",
            "Train Accuracy of RandomForest: 0.9090121317157712\n",
            "Test Accuracy of RandomForest: 0.5853658536585366\n"
          ]
        }
      ]
    },
    {
      "cell_type": "code",
      "source": [
        "conf_mat = confusion_matrix(y_test, y_pred)\n",
        "plt.figure(figsize = (10,7))\n",
        "sns.heatmap(conf_mat, square=True, annot=True, cmap='Blues', fmt='d', cbar=False)\n",
        "plt.xlabel('Predicted')\n",
        "plt.ylabel('Truth')\n",
        "plt.show()\n",
        "\n",
        "target_names = ['Severe', 'Mild', 'Normal']\n",
        "print(classification_report(y_test, y_pred, target_names=target_names))"
      ],
      "metadata": {
        "colab": {
          "base_uri": "https://localhost:8080/",
          "height": 625
        },
        "id": "x3Urw_Dlcuxa",
        "outputId": "c5f4a6b0-e13a-4521-fd15-161536c71d80"
      },
      "execution_count": null,
      "outputs": [
        {
          "output_type": "display_data",
          "data": {
            "text/plain": [
              "<Figure size 720x504 with 1 Axes>"
            ],
            "image/png": "[encoded data removed]"
          },
          "metadata": {}
        },
        {
          "output_type": "stream",
          "name": "stdout",
          "text": [
            "              precision    recall  f1-score   support\n",
            "\n",
            "      Severe       0.50      0.42      0.46       137\n",
            "        Mild       0.68      0.71      0.70       280\n",
            "      Normal       0.14      0.18      0.16        34\n",
            "\n",
            "    accuracy                           0.59       451\n",
            "   macro avg       0.44      0.44      0.44       451\n",
            "weighted avg       0.59      0.59      0.58       451\n",
            "\n"
          ]
        }
      ]
    },
    {
      "cell_type": "markdown",
      "source": [
        "### ExtraTreesClassifier"
      ],
      "metadata": {
        "id": "v8KHcYtineWr"
      }
    },
    {
      "cell_type": "code",
      "source": [
        "model = ExtraTreesClassifier()\n",
        "model.fit(X_train, y_train)\n",
        "print(model.feature_importances_) \n",
        "feat_importances = pd.Series(model.feature_importances_, index=X_train.columns)\n",
        "# feat_importances.nlargest(10).plot(kind='barh')\n",
        "# plt.show()\n",
        "\n",
        "plt.figure(figsize=(20,10))\n",
        "sns.set_theme(style=\"darkgrid\")\n",
        "sns.lineplot(x=\"index\", y=0, data=feat_importances.reset_index().nlargest(30,0))\n",
        "plt.xticks(rotation=90)\n",
        "plt.show()"
      ],
      "metadata": {
        "colab": {
          "base_uri": "https://localhost:8080/",
          "height": 1000
        },
        "id": "zlmq6LlffAlB",
        "outputId": "a4aa0aa8-36c1-45a6-ffd3-2d7a1a8daad6"
      },
      "execution_count": null,
      "outputs": [
        {
          "output_type": "stream",
          "name": "stdout",
          "text": [
            "[1.51154467e-01 1.26573048e-02 1.89814339e-02 3.64518444e-02\n",
            " 2.44736462e-02 4.75631469e-02 2.18517900e-02 2.45491739e-02\n",
            " 7.84959102e-03 6.88860588e-03 5.03583255e-03 9.29544233e-03\n",
            " 2.99738166e-02 2.15211273e-03 4.00187479e-02 3.87585239e-03\n",
            " 1.28802981e-02 9.69494046e-03 1.06031888e-02 9.22140109e-03\n",
            " 6.32593986e-03 1.52545586e-03 7.23906460e-04 1.61544768e-04\n",
            " 6.46045495e-05 8.25042898e-05 3.64074751e-05 0.00000000e+00\n",
            " 4.10898981e-03 1.71598693e-02 1.32412645e-02 1.81942548e-03\n",
            " 8.89581001e-03 9.09048910e-03 1.60257689e-02 1.36331704e-02\n",
            " 4.90787030e-03 4.91117626e-04 2.14129561e-04 1.07630911e-02\n",
            " 2.84816037e-02 4.41099917e-04 5.70342355e-03 2.50006806e-02\n",
            " 1.57696158e-03 2.41663956e-04 1.84956345e-04 8.80721011e-03\n",
            " 4.89141504e-04 2.32651075e-05 7.05990902e-03 8.71328803e-03\n",
            " 1.63123199e-03 4.31595781e-03 5.31242960e-04 1.64503034e-03\n",
            " 4.74602114e-03 2.96514521e-04 2.10193990e-04 5.87512219e-03\n",
            " 9.11906792e-03 8.54035345e-04 4.65562710e-03 6.16457927e-03\n",
            " 6.50881065e-03 3.54489456e-03 4.35129765e-03 5.00383488e-03\n",
            " 8.78687457e-03 5.23273756e-04 4.28378609e-03 6.80620207e-03\n",
            " 7.85405223e-03 6.76179525e-04 4.03818936e-03 8.53445395e-03\n",
            " 8.63032749e-03 8.43266004e-03 8.95683073e-03 1.02818003e-02\n",
            " 8.52196233e-03 8.26491566e-03 7.38935493e-03 7.56002907e-03\n",
            " 6.90064390e-03 7.08737242e-03 7.87345461e-03 7.44481594e-03\n",
            " 9.55276223e-03 6.74809258e-03 8.86890802e-03 1.86571763e-03\n",
            " 7.55487710e-03 2.20216188e-04 4.34502294e-03 1.99150366e-02\n",
            " 9.08258518e-03 1.01416603e-02 4.32119708e-05 6.02478709e-03\n",
            " 1.39714532e-02 2.17070819e-03 4.94771883e-03 5.45505503e-03\n",
            " 5.85199105e-03 3.77235514e-03]\n"
          ]
        },
        {
          "output_type": "display_data",
          "data": {
            "text/plain": [
              "<Figure size 1440x720 with 1 Axes>"
            ],
            "image/png": "[encoded data removed]"
          },
          "metadata": {}
        }
      ]
    },
    {
      "cell_type": "code",
      "source": [
        "feat_importances.reset_index().nlargest(12,0)['index'].unique()"
      ],
      "metadata": {
        "colab": {
          "base_uri": "https://localhost:8080/"
        },
        "id": "ewnuyFRZfeEF",
        "outputId": "2506cb06-0b14-4947-9ea4-8d7cfaf7b5c4"
      },
      "execution_count": null,
      "outputs": [
        {
          "output_type": "execute_result",
          "data": {
            "text/plain": [
              "array(['AGE', 'NEGERI_Kelantan', 'Marital Status_Berkahwin',\n",
              "       'GENDER_Lelaki', 'Marital Status_Balu/Duda',\n",
              "       'WHODAS_baseline_None', 'WHODAS_baseline_Some', 'NEGERI_Selangor',\n",
              "       'NEGERI_Johor', 'NEGERI_Perak', 'Total_EpQ(Average)_No',\n",
              "       'total_income'], dtype=object)"
            ]
          },
          "metadata": {},
          "execution_count": 205
        }
      ]
    },
    {
      "cell_type": "code",
      "source": [
        "X_train_f= X_train[['AGE', 'NEGERI_Kelantan', 'Marital Status_Berkahwin',\n",
        "       'GENDER_Lelaki', 'Marital Status_Balu/Duda',\n",
        "       'WHODAS_baseline_None', 'WHODAS_baseline_Some', 'NEGERI_Selangor',\n",
        "       'NEGERI_Johor', 'NEGERI_Perak', 'Total_EpQ(Average)_No','total_income']]\n",
        "X_test_f= X_test[['AGE', 'NEGERI_Kelantan', 'Marital Status_Berkahwin',\n",
        "       'GENDER_Lelaki', 'Marital Status_Balu/Duda',\n",
        "       'WHODAS_baseline_None', 'WHODAS_baseline_Some', 'NEGERI_Selangor',\n",
        "       'NEGERI_Johor', 'NEGERI_Perak', 'Total_EpQ(Average)_No','total_income']]"
      ],
      "metadata": {
        "id": "rn9iMQVqfq_q"
      },
      "execution_count": null,
      "outputs": []
    },
    {
      "cell_type": "code",
      "source": [],
      "metadata": {
        "id": "CCsE79St1Zim"
      },
      "execution_count": null,
      "outputs": []
    }
  ]
}